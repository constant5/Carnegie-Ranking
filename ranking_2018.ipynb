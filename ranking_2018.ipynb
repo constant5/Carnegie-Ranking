{
 "cells": [
  {
   "cell_type": "markdown",
   "metadata": {},
   "source": [
    "# Reproduction of Carnegie Research Activity Index Method\n",
    "\n",
    "## 2018 Rankings\n",
    "\n",
    "Based on https://carnegieclassifications.iu.edu/pdf/CCIHE2018_Research_Activity_Index_Method.pdf\n",
    "\n",
    "\n",
    "scikit-learn PCA loadings example found here: https://scentellegher.github.io/machine-learning/2020/01/27/pca-loadings-sklearn.html\n"
   ]
  },
  {
   "cell_type": "code",
   "execution_count": 1,
   "metadata": {},
   "outputs": [],
   "source": [
    "import pandas as pd\n",
    "from sklearn.decomposition import PCA\n",
    "from  sklearn.preprocessing import StandardScaler\n",
    "import numpy as np\n",
    "import matplotlib.pyplot as plt\n",
    "scaler = StandardScaler()\n",
    "\n",
    "DATA =  '..\\..\\Desktop\\Carnegie'\n",
    "# import sklearn"
   ]
  },
  {
   "cell_type": "markdown",
   "metadata": {},
   "source": [
    "### Import data only using columns required for ranking\n",
    "\n",
    "The data for the 261 institutions that were included in the analysis within the public file\n",
    "(http://carnegieclassifications.iu.edu/downloads/CCIHE2018-PublicDataFile.xlsx) specifically, the\n",
    "columns labeled: S&ER&D, NONS&ER&D, PDNFRSTAFF, FACNUM (used for per capita index calculation),\n",
    "HUM_RSD, SOCSC_RSD, STEM_RSD, OTHER_RSD. "
   ]
  },
  {
   "cell_type": "code",
   "execution_count": 2,
   "metadata": {},
   "outputs": [],
   "source": [
    "\n",
    "columns = ['NAME', 'S&ER&D', 'NONS&ER&D', 'PDNFRSTAFF', 'FACNUM',\n",
    "'HUM_RSD', 'SOCSC_RSD', 'STEM_RSD', 'OTHER_RSD']\n",
    "data2018 = pd.read_excel(DATA+'\\CCIHE2018-PublicDataFile_Rank_Applied.xlsx', sheet_name='Data',engine='openpyxl', usecols=columns, index_col='NAME')\n"
   ]
  },
  {
   "cell_type": "markdown",
   "metadata": {},
   "source": [
    "### Select only the 261 institutions with valid data\n",
    "The institutions should have values (including 0) for all seven variables. \n",
    "\n",
    "In practice I found that only selecting institutions with valid values for S&ER&D gave the correct number (261) institutions. "
   ]
  },
  {
   "cell_type": "code",
   "execution_count": 3,
   "metadata": {},
   "outputs": [
    {
     "data": {
      "text/plain": [
       "(261, 8)"
      ]
     },
     "execution_count": 3,
     "metadata": {},
     "output_type": "execute_result"
    }
   ],
   "source": [
    "data2018 =data2018[(data2018['S&ER&D'] >=0)]\n",
    "data2018.fillna(value=0, inplace=True)\n",
    "data2018.shape"
   ]
  },
  {
   "cell_type": "markdown",
   "metadata": {},
   "source": [
    "#### Check for UNT"
   ]
  },
  {
   "cell_type": "code",
   "execution_count": 4,
   "metadata": {},
   "outputs": [
    {
     "data": {
      "text/plain": [
       "S&ER&D        35443.0\n",
       "NONS&ER&D      8346.0\n",
       "PDNFRSTAFF       55.0\n",
       "FACNUM          767.0\n",
       "HUM_RSD          62.0\n",
       "SOCSC_RSD        19.0\n",
       "STEM_RSD         64.0\n",
       "OTHER_RSD       123.0\n",
       "Name: University of North Texas, dtype: float64"
      ]
     },
     "execution_count": 4,
     "metadata": {},
     "output_type": "execute_result"
    }
   ],
   "source": [
    "data2018.loc['University of North Texas']"
   ]
  },
  {
   "cell_type": "markdown",
   "metadata": {},
   "source": [
    "**Step 1**: Calculate the three per capita measures by dividing each of the three research measures\n",
    "(S&ER&D, NONS&ER&D, PDNFRSTAFF) by the number of full-time ladder-rank faculty\n",
    "(FACNUM)."
   ]
  },
  {
   "cell_type": "code",
   "execution_count": 5,
   "metadata": {},
   "outputs": [],
   "source": [
    "per_cap_serd = data2018['S&ER&D']/data2018['FACNUM']\n",
    "per_cap_non_serd = data2018['NONS&ER&D']/data2018['FACNUM']\n",
    "per_cap_staff = data2018['PDNFRSTAFF']/data2018['FACNUM']"
   ]
  },
  {
   "cell_type": "markdown",
   "metadata": {},
   "source": [
    "**Step 2**: Convert all ten measures (the 7 raw measures and 3 per capita ones) to ranks from low = 1 to\n",
    "high = 261 (i.e., ascending order). "
   ]
  },
  {
   "cell_type": "code",
   "execution_count": 6,
   "metadata": {},
   "outputs": [],
   "source": [
    "per_cap_serd_rank     = per_cap_serd.rank()\n",
    "per_cap_non_serd_rank = per_cap_non_serd.rank()\n",
    "per_cap_staff_rank    = per_cap_staff.rank()\n",
    "\n",
    "serd_rank      = data2018['S&ER&D'].rank()\n",
    "non_serd_rank  = data2018['NONS&ER&D'].rank()\n",
    "staff_rank     = data2018['PDNFRSTAFF'].rank()\n",
    "hum_rsd_rank   = data2018['HUM_RSD'].rank()\n",
    "sosc_rsd_rank  = data2018['SOCSC_RSD'].rank()\n",
    "stem_rsd_rank  = data2018['STEM_RSD'].rank()\n",
    "other_rsd_rank = data2018['OTHER_RSD'].rank()\n"
   ]
  },
  {
   "cell_type": "markdown",
   "metadata": {},
   "source": [
    "**Note**: Carnegie uses the “RANK.AVG” function within Excel, where ties all receive the average value of the group followed by the next available number. For example, the seven numbers 10, 8, 8, 4, 4, 4, 2 would be ranked 7, 5.5, 5.5, 3, 3, 3, 1.\n",
    "\n",
    "We verify pandas rank() method returns the same values."
   ]
  },
  {
   "cell_type": "code",
   "execution_count": 7,
   "metadata": {},
   "outputs": [
    {
     "name": "stdout",
     "output_type": "stream",
     "text": [
      "0    7.0\n",
      "1    5.5\n",
      "2    5.5\n",
      "3    3.0\n",
      "4    3.0\n",
      "5    3.0\n",
      "6    1.0\n",
      "dtype: float64\n"
     ]
    }
   ],
   "source": [
    "test_rank = pd.Series([10, 8, 8, 4, 4, 4, 2]).rank()\n",
    "print(test_rank)\n",
    "assert(list(test_rank.values) == [7, 5.5, 5.5, 3, 3, 3, 1])"
   ]
  },
  {
   "cell_type": "markdown",
   "metadata": {},
   "source": [
    "**Step 3a**: Calculate the the PCA loadings for the per-capita and aggregated measures. "
   ]
  },
  {
   "cell_type": "code",
   "execution_count": 8,
   "metadata": {},
   "outputs": [],
   "source": [
    "RankDF_cap  = pd.DataFrame({\n",
    "        'per_cap_serd'     : per_cap_serd_rank, \n",
    "        'per_cap_non_serd' : per_cap_non_serd_rank,\n",
    "        'per_cap_staff'    : per_cap_staff_rank})\n",
    "RankDF_agg = pd.DataFrame({\n",
    "        'serd'             : serd_rank,\n",
    "        'non_serd'         : non_serd_rank,\n",
    "        'staff'            : staff_rank,\n",
    "        'hum_rsd'          : hum_rsd_rank,\n",
    "        'sosc_rsd'         : sosc_rsd_rank,\n",
    "        'stem_rsd'         : stem_rsd_rank,\n",
    "        'other_rsd'        : other_rsd_rank})"
   ]
  },
  {
   "cell_type": "code",
   "execution_count": 9,
   "metadata": {},
   "outputs": [
    {
     "name": "stdout",
     "output_type": "stream",
     "text": [
      "Per Capita PCA Loading\n"
     ]
    },
    {
     "data": {
      "text/html": [
       "<div>\n",
       "<style scoped>\n",
       "    .dataframe tbody tr th:only-of-type {\n",
       "        vertical-align: middle;\n",
       "    }\n",
       "\n",
       "    .dataframe tbody tr th {\n",
       "        vertical-align: top;\n",
       "    }\n",
       "\n",
       "    .dataframe thead th {\n",
       "        text-align: right;\n",
       "    }\n",
       "</style>\n",
       "<table border=\"1\" class=\"dataframe\">\n",
       "  <thead>\n",
       "    <tr style=\"text-align: right;\">\n",
       "      <th></th>\n",
       "      <th>PC1</th>\n",
       "    </tr>\n",
       "  </thead>\n",
       "  <tbody>\n",
       "    <tr>\n",
       "      <th>per_cap_serd</th>\n",
       "      <td>0.936427</td>\n",
       "    </tr>\n",
       "    <tr>\n",
       "      <th>per_cap_non_serd</th>\n",
       "      <td>0.620622</td>\n",
       "    </tr>\n",
       "    <tr>\n",
       "      <th>per_cap_staff</th>\n",
       "      <td>0.931934</td>\n",
       "    </tr>\n",
       "  </tbody>\n",
       "</table>\n",
       "</div>"
      ],
      "text/plain": [
       "                       PC1\n",
       "per_cap_serd      0.936427\n",
       "per_cap_non_serd  0.620622\n",
       "per_cap_staff     0.931934"
      ]
     },
     "metadata": {},
     "output_type": "display_data"
    }
   ],
   "source": [
    "\n",
    "print('Per Capita PCA Loading')\n",
    "scaler = StandardScaler()\n",
    "X = scaler.fit_transform(RankDF_cap)\n",
    "pca = PCA( n_components=0.7, svd_solver='full')\n",
    "pca.fit(X)\n",
    "\n",
    "loadings_cap = pca.components_.T * np.sqrt(pca.explained_variance_)\n",
    "loadings_matrix_cap = pd.DataFrame(loadings_cap, columns=['PC1'], index=RankDF_cap.columns)\n",
    "\n",
    "display(loadings_matrix_cap)\n"
   ]
  },
  {
   "cell_type": "code",
   "execution_count": 10,
   "metadata": {},
   "outputs": [
    {
     "name": "stdout",
     "output_type": "stream",
     "text": [
      "Aggregate PCA Loading\n"
     ]
    },
    {
     "data": {
      "text/html": [
       "<div>\n",
       "<style scoped>\n",
       "    .dataframe tbody tr th:only-of-type {\n",
       "        vertical-align: middle;\n",
       "    }\n",
       "\n",
       "    .dataframe tbody tr th {\n",
       "        vertical-align: top;\n",
       "    }\n",
       "\n",
       "    .dataframe thead th {\n",
       "        text-align: right;\n",
       "    }\n",
       "</style>\n",
       "<table border=\"1\" class=\"dataframe\">\n",
       "  <thead>\n",
       "    <tr style=\"text-align: right;\">\n",
       "      <th></th>\n",
       "      <th>PC1</th>\n",
       "    </tr>\n",
       "  </thead>\n",
       "  <tbody>\n",
       "    <tr>\n",
       "      <th>serd</th>\n",
       "      <td>0.901014</td>\n",
       "    </tr>\n",
       "    <tr>\n",
       "      <th>non_serd</th>\n",
       "      <td>0.818922</td>\n",
       "    </tr>\n",
       "    <tr>\n",
       "      <th>staff</th>\n",
       "      <td>0.896128</td>\n",
       "    </tr>\n",
       "    <tr>\n",
       "      <th>hum_rsd</th>\n",
       "      <td>0.840900</td>\n",
       "    </tr>\n",
       "    <tr>\n",
       "      <th>sosc_rsd</th>\n",
       "      <td>0.866214</td>\n",
       "    </tr>\n",
       "    <tr>\n",
       "      <th>stem_rsd</th>\n",
       "      <td>0.910214</td>\n",
       "    </tr>\n",
       "    <tr>\n",
       "      <th>other_rsd</th>\n",
       "      <td>0.621869</td>\n",
       "    </tr>\n",
       "  </tbody>\n",
       "</table>\n",
       "</div>"
      ],
      "text/plain": [
       "                PC1\n",
       "serd       0.901014\n",
       "non_serd   0.818922\n",
       "staff      0.896128\n",
       "hum_rsd    0.840900\n",
       "sosc_rsd   0.866214\n",
       "stem_rsd   0.910214\n",
       "other_rsd  0.621869"
      ]
     },
     "metadata": {},
     "output_type": "display_data"
    }
   ],
   "source": [
    "print('Aggregate PCA Loading')\n",
    "\n",
    "X = scaler.fit_transform(RankDF_agg)\n",
    "scaler = StandardScaler()\n",
    "pca = PCA(n_components=0.7, svd_solver = 'full')\n",
    "pca.fit(X)\n",
    "\n",
    "loadings_agg = pca.components_.T * np.sqrt(pca.explained_variance_)\n",
    "loadings_matrix_agg = pd.DataFrame(loadings_agg, columns=['PC1'], index=RankDF_agg.columns)\n",
    "\n",
    "display(loadings_matrix_agg)"
   ]
  },
  {
   "cell_type": "markdown",
   "metadata": {},
   "source": [
    "**Step 3b**: For each institution, calculate the aggregate index score and the per capita index score by\n",
    "multiplying the appropriate ranks (first seven measures for aggregate; 3 per capita measures for\n",
    "the per capita index) by the “PCA Coefficients” that are provided in the Research Activity Index\n",
    "file (http://carnegieclassifications.iu.edu/downloads/CCIHE2018-Research_Activity_Index.xlsx)\n",
    "and summing the weighted ranks for each index (resulting in two indexes). Make sure to copy\n",
    "the values from the spreadsheet rather than retyping what appears in the cells (full precision).\n",
    "\n",
    "For Ref the loadings provided by Carnegie:\n",
    "**PCA loadings based on rank-order data**\n",
    "\t\n",
    "| Aggregate analysis (first principal component explained 71% of the total variance)  |                   |\n",
    "|-------------------------------------------------------------------------------------|-------------------|\n",
    "| Doctorates:   STEM                                                                  | 0.908688930704778 |\n",
    "| S&E   R&D Expenditures                                                              | 0.899072420694617 |\n",
    "| Research   Staff                                                                    | 0.894358620000159 |\n",
    "| Doctorates:   Social Sciences                                                       | 0.864370115002359 |\n",
    "| Doctorates:   Humanities                                                            | 0.839135325109965 |\n",
    "| Non-S&E   R&D Expenditures                                                          | 0.817162007088267 |\n",
    "| Doctorates:   Other Fields                                                          | 0.621012911597097 |\n",
    "\n",
    "<br>\n",
    "\n",
    "| Per-capita analysis (first principal component explained 71% of the total variance) |                   |\n",
    "| ------------------------------------------------------------------------------------|-------------------|\n",
    "| Per-capita   S&E R&D Expenditures                                                   | 0.934527          |\n",
    "| Per-capita   Research Staff                                                         | 0.930298          |\n",
    "| Per-capita   Non-S&E R&D Expenditures                                               | 0.618853          |\n"
   ]
  },
  {
   "cell_type": "code",
   "execution_count": 11,
   "metadata": {},
   "outputs": [
    {
     "data": {
      "text/plain": [
       "NAME\n",
       "University of Pennsylvania          1451.055808\n",
       "University of Michigan-Ann Arbor    1474.115474\n",
       "New York University                 1391.409364\n",
       "Harvard University                  1480.155116\n",
       "University of Wisconsin-Madison     1477.085856\n",
       "Name: agg index, dtype: float64"
      ]
     },
     "metadata": {},
     "output_type": "display_data"
    },
    {
     "data": {
      "text/plain": [
       "NAME\n",
       "University of Pennsylvania          637.797943\n",
       "University of Michigan-Ann Arbor    566.886700\n",
       "New York University                 447.600499\n",
       "Harvard University                  634.678866\n",
       "University of Wisconsin-Madison     564.382725\n",
       "Name: per-capita index, dtype: float64"
      ]
     },
     "metadata": {},
     "output_type": "display_data"
    }
   ],
   "source": [
    "agg_index = pd.Series(data= [0]*len(RankDF_agg), name='agg index', index=RankDF_agg.index)\n",
    "for col in RankDF_agg.columns:\n",
    "    loading =  loadings_matrix_agg.loc[col].values[0]\n",
    "    weighted = RankDF_agg[col] * loading\n",
    "    agg_index += weighted\n",
    "\n",
    "display(agg_index.head())\n",
    "\n",
    "per_cap_index = pd.Series(data= [0]*len(RankDF_cap), name='per-capita index', index=RankDF_cap.index)\n",
    "for col in RankDF_cap.columns:\n",
    "    loading =  loadings_matrix_cap.loc[col].values[0]\n",
    "    weighted = RankDF_cap[col] * loading\n",
    "    per_cap_index += weighted\n",
    "\n",
    "display(per_cap_index.head())\n"
   ]
  },
  {
   "cell_type": "markdown",
   "metadata": {},
   "source": [
    "**Step 4**: Create new versions of those two indices by subtracting the minimum value from each score (so\n",
    "the resulting minimum value is 0)."
   ]
  },
  {
   "cell_type": "code",
   "execution_count": 12,
   "metadata": {},
   "outputs": [],
   "source": [
    "agg_index = agg_index - min(agg_index)\n",
    "data2018['agg_index'] = agg_index\n",
    "per_cap_index = per_cap_index - min(per_cap_index)\n",
    "data2018['per_cap_index'] = per_cap_index"
   ]
  },
  {
   "cell_type": "markdown",
   "metadata": {},
   "source": [
    "**Step 5**: For each institution, use the zero adjusted versions of the two index scores created in step 4 to\n",
    "calculate the distance to the origin (0, 0) of the two index score using the standardized Euclidean\n",
    "Distance formula (Square root of sum of squared index).\n"
   ]
  },
  {
   "cell_type": "code",
   "execution_count": 13,
   "metadata": {},
   "outputs": [],
   "source": [
    "raw_distance = np.sqrt(agg_index**2 + per_cap_index**2)\n",
    "data2018['raw_distance'] = raw_distance"
   ]
  },
  {
   "cell_type": "markdown",
   "metadata": {},
   "source": [
    "**Step 6**: Convert the resulting raw distance score to a standardized value but subtracting the overall\n",
    "mean and dividing by the standard deviation (we used population standard deviation)."
   ]
  },
  {
   "cell_type": "code",
   "execution_count": 14,
   "metadata": {},
   "outputs": [],
   "source": [
    "\n",
    "stand_distance = (raw_distance - np.mean(raw_distance))/np.std(raw_distance)\n",
    "data2018['stand_distance'] = stand_distance"
   ]
  },
  {
   "cell_type": "markdown",
   "metadata": {},
   "source": [
    "### Finally convert to rank"
   ]
  },
  {
   "cell_type": "code",
   "execution_count": 15,
   "metadata": {},
   "outputs": [],
   "source": [
    "ranking = stand_distance.rank(ascending=False)\n",
    "data2018['ranking'] = ranking"
   ]
  },
  {
   "cell_type": "code",
   "execution_count": 16,
   "metadata": {},
   "outputs": [
    {
     "data": {
      "text/html": [
       "<div>\n",
       "<style scoped>\n",
       "    .dataframe tbody tr th:only-of-type {\n",
       "        vertical-align: middle;\n",
       "    }\n",
       "\n",
       "    .dataframe tbody tr th {\n",
       "        vertical-align: top;\n",
       "    }\n",
       "\n",
       "    .dataframe thead th {\n",
       "        text-align: right;\n",
       "    }\n",
       "</style>\n",
       "<table border=\"1\" class=\"dataframe\">\n",
       "  <thead>\n",
       "    <tr style=\"text-align: right;\">\n",
       "      <th></th>\n",
       "      <th>S&amp;ER&amp;D</th>\n",
       "      <th>NONS&amp;ER&amp;D</th>\n",
       "      <th>PDNFRSTAFF</th>\n",
       "      <th>FACNUM</th>\n",
       "      <th>HUM_RSD</th>\n",
       "      <th>SOCSC_RSD</th>\n",
       "      <th>STEM_RSD</th>\n",
       "      <th>OTHER_RSD</th>\n",
       "      <th>agg_index</th>\n",
       "      <th>per_cap_index</th>\n",
       "      <th>raw_distance</th>\n",
       "      <th>stand_distance</th>\n",
       "      <th>ranking</th>\n",
       "    </tr>\n",
       "    <tr>\n",
       "      <th>NAME</th>\n",
       "      <th></th>\n",
       "      <th></th>\n",
       "      <th></th>\n",
       "      <th></th>\n",
       "      <th></th>\n",
       "      <th></th>\n",
       "      <th></th>\n",
       "      <th></th>\n",
       "      <th></th>\n",
       "      <th></th>\n",
       "      <th></th>\n",
       "      <th></th>\n",
       "      <th></th>\n",
       "    </tr>\n",
       "  </thead>\n",
       "  <tbody>\n",
       "    <tr>\n",
       "      <th>Harvard University</th>\n",
       "      <td>1032590.0</td>\n",
       "      <td>90570.0</td>\n",
       "      <td>6962.0</td>\n",
       "      <td>1658.0</td>\n",
       "      <td>143.0</td>\n",
       "      <td>79.0</td>\n",
       "      <td>320.0</td>\n",
       "      <td>176.0</td>\n",
       "      <td>1338.212458</td>\n",
       "      <td>603.232061</td>\n",
       "      <td>1467.890153</td>\n",
       "      <td>1.970566</td>\n",
       "      <td>1.0</td>\n",
       "    </tr>\n",
       "    <tr>\n",
       "      <th>University of Pennsylvania</th>\n",
       "      <td>1247686.0</td>\n",
       "      <td>126607.0</td>\n",
       "      <td>1566.0</td>\n",
       "      <td>1613.0</td>\n",
       "      <td>92.0</td>\n",
       "      <td>68.0</td>\n",
       "      <td>251.0</td>\n",
       "      <td>178.0</td>\n",
       "      <td>1309.113149</td>\n",
       "      <td>606.351138</td>\n",
       "      <td>1442.719287</td>\n",
       "      <td>1.906002</td>\n",
       "      <td>2.0</td>\n",
       "    </tr>\n",
       "    <tr>\n",
       "      <th>University of Wisconsin-Madison</th>\n",
       "      <td>1105261.0</td>\n",
       "      <td>88152.0</td>\n",
       "      <td>1367.0</td>\n",
       "      <td>3175.0</td>\n",
       "      <td>147.0</td>\n",
       "      <td>86.0</td>\n",
       "      <td>529.0</td>\n",
       "      <td>114.0</td>\n",
       "      <td>1335.143197</td>\n",
       "      <td>532.935920</td>\n",
       "      <td>1437.577146</td>\n",
       "      <td>1.892812</td>\n",
       "      <td>3.0</td>\n",
       "    </tr>\n",
       "    <tr>\n",
       "      <th>University of Michigan-Ann Arbor</th>\n",
       "      <td>1434535.0</td>\n",
       "      <td>95604.0</td>\n",
       "      <td>1922.0</td>\n",
       "      <td>4070.0</td>\n",
       "      <td>121.0</td>\n",
       "      <td>79.0</td>\n",
       "      <td>532.0</td>\n",
       "      <td>88.0</td>\n",
       "      <td>1332.172816</td>\n",
       "      <td>535.439895</td>\n",
       "      <td>1435.750776</td>\n",
       "      <td>1.888127</td>\n",
       "      <td>4.0</td>\n",
       "    </tr>\n",
       "    <tr>\n",
       "      <th>University of California-Los Angeles</th>\n",
       "      <td>1037780.0</td>\n",
       "      <td>39137.0</td>\n",
       "      <td>2053.0</td>\n",
       "      <td>2982.0</td>\n",
       "      <td>120.0</td>\n",
       "      <td>89.0</td>\n",
       "      <td>420.0</td>\n",
       "      <td>141.0</td>\n",
       "      <td>1322.839193</td>\n",
       "      <td>514.023493</td>\n",
       "      <td>1419.198253</td>\n",
       "      <td>1.845669</td>\n",
       "      <td>5.0</td>\n",
       "    </tr>\n",
       "    <tr>\n",
       "      <th>...</th>\n",
       "      <td>...</td>\n",
       "      <td>...</td>\n",
       "      <td>...</td>\n",
       "      <td>...</td>\n",
       "      <td>...</td>\n",
       "      <td>...</td>\n",
       "      <td>...</td>\n",
       "      <td>...</td>\n",
       "      <td>...</td>\n",
       "      <td>...</td>\n",
       "      <td>...</td>\n",
       "      <td>...</td>\n",
       "      <td>...</td>\n",
       "    </tr>\n",
       "    <tr>\n",
       "      <th>University of Arkansas at Little Rock</th>\n",
       "      <td>6050.0</td>\n",
       "      <td>783.0</td>\n",
       "      <td>9.0</td>\n",
       "      <td>363.0</td>\n",
       "      <td>0.0</td>\n",
       "      <td>0.0</td>\n",
       "      <td>14.0</td>\n",
       "      <td>12.0</td>\n",
       "      <td>59.229235</td>\n",
       "      <td>46.861499</td>\n",
       "      <td>75.525508</td>\n",
       "      <td>-1.600891</td>\n",
       "      <td>257.0</td>\n",
       "    </tr>\n",
       "    <tr>\n",
       "      <th>Tennessee Technological University</th>\n",
       "      <td>11467.0</td>\n",
       "      <td>612.0</td>\n",
       "      <td>3.0</td>\n",
       "      <td>319.0</td>\n",
       "      <td>0.0</td>\n",
       "      <td>0.0</td>\n",
       "      <td>13.0</td>\n",
       "      <td>10.0</td>\n",
       "      <td>48.799098</td>\n",
       "      <td>51.973762</td>\n",
       "      <td>71.292524</td>\n",
       "      <td>-1.611749</td>\n",
       "      <td>258.0</td>\n",
       "    </tr>\n",
       "    <tr>\n",
       "      <th>Arkansas State University-Main Campus</th>\n",
       "      <td>7936.0</td>\n",
       "      <td>16.0</td>\n",
       "      <td>1.0</td>\n",
       "      <td>398.0</td>\n",
       "      <td>5.0</td>\n",
       "      <td>0.0</td>\n",
       "      <td>9.0</td>\n",
       "      <td>10.0</td>\n",
       "      <td>63.717821</td>\n",
       "      <td>0.000000</td>\n",
       "      <td>63.717821</td>\n",
       "      <td>-1.631178</td>\n",
       "      <td>259.0</td>\n",
       "    </tr>\n",
       "    <tr>\n",
       "      <th>Texas Southern University</th>\n",
       "      <td>4702.0</td>\n",
       "      <td>20.0</td>\n",
       "      <td>1.0</td>\n",
       "      <td>234.0</td>\n",
       "      <td>0.0</td>\n",
       "      <td>0.0</td>\n",
       "      <td>21.0</td>\n",
       "      <td>24.0</td>\n",
       "      <td>50.189416</td>\n",
       "      <td>2.488982</td>\n",
       "      <td>50.251094</td>\n",
       "      <td>-1.665720</td>\n",
       "      <td>260.0</td>\n",
       "    </tr>\n",
       "    <tr>\n",
       "      <th>University of Maryland Eastern Shore</th>\n",
       "      <td>7403.0</td>\n",
       "      <td>0.0</td>\n",
       "      <td>3.0</td>\n",
       "      <td>170.0</td>\n",
       "      <td>0.0</td>\n",
       "      <td>0.0</td>\n",
       "      <td>7.0</td>\n",
       "      <td>14.0</td>\n",
       "      <td>0.000000</td>\n",
       "      <td>48.291519</td>\n",
       "      <td>48.291519</td>\n",
       "      <td>-1.670747</td>\n",
       "      <td>261.0</td>\n",
       "    </tr>\n",
       "  </tbody>\n",
       "</table>\n",
       "<p>261 rows × 13 columns</p>\n",
       "</div>"
      ],
      "text/plain": [
       "                                          S&ER&D  NONS&ER&D  PDNFRSTAFF  \\\n",
       "NAME                                                                      \n",
       "Harvard University                     1032590.0    90570.0      6962.0   \n",
       "University of Pennsylvania             1247686.0   126607.0      1566.0   \n",
       "University of Wisconsin-Madison        1105261.0    88152.0      1367.0   \n",
       "University of Michigan-Ann Arbor       1434535.0    95604.0      1922.0   \n",
       "University of California-Los Angeles   1037780.0    39137.0      2053.0   \n",
       "...                                          ...        ...         ...   \n",
       "University of Arkansas at Little Rock     6050.0      783.0         9.0   \n",
       "Tennessee Technological University       11467.0      612.0         3.0   \n",
       "Arkansas State University-Main Campus     7936.0       16.0         1.0   \n",
       "Texas Southern University                 4702.0       20.0         1.0   \n",
       "University of Maryland Eastern Shore      7403.0        0.0         3.0   \n",
       "\n",
       "                                       FACNUM  HUM_RSD  SOCSC_RSD  STEM_RSD  \\\n",
       "NAME                                                                          \n",
       "Harvard University                     1658.0    143.0       79.0     320.0   \n",
       "University of Pennsylvania             1613.0     92.0       68.0     251.0   \n",
       "University of Wisconsin-Madison        3175.0    147.0       86.0     529.0   \n",
       "University of Michigan-Ann Arbor       4070.0    121.0       79.0     532.0   \n",
       "University of California-Los Angeles   2982.0    120.0       89.0     420.0   \n",
       "...                                       ...      ...        ...       ...   \n",
       "University of Arkansas at Little Rock   363.0      0.0        0.0      14.0   \n",
       "Tennessee Technological University      319.0      0.0        0.0      13.0   \n",
       "Arkansas State University-Main Campus   398.0      5.0        0.0       9.0   \n",
       "Texas Southern University               234.0      0.0        0.0      21.0   \n",
       "University of Maryland Eastern Shore    170.0      0.0        0.0       7.0   \n",
       "\n",
       "                                       OTHER_RSD    agg_index  per_cap_index  \\\n",
       "NAME                                                                           \n",
       "Harvard University                         176.0  1338.212458     603.232061   \n",
       "University of Pennsylvania                 178.0  1309.113149     606.351138   \n",
       "University of Wisconsin-Madison            114.0  1335.143197     532.935920   \n",
       "University of Michigan-Ann Arbor            88.0  1332.172816     535.439895   \n",
       "University of California-Los Angeles       141.0  1322.839193     514.023493   \n",
       "...                                          ...          ...            ...   \n",
       "University of Arkansas at Little Rock       12.0    59.229235      46.861499   \n",
       "Tennessee Technological University          10.0    48.799098      51.973762   \n",
       "Arkansas State University-Main Campus       10.0    63.717821       0.000000   \n",
       "Texas Southern University                   24.0    50.189416       2.488982   \n",
       "University of Maryland Eastern Shore        14.0     0.000000      48.291519   \n",
       "\n",
       "                                       raw_distance  stand_distance  ranking  \n",
       "NAME                                                                          \n",
       "Harvard University                      1467.890153        1.970566      1.0  \n",
       "University of Pennsylvania              1442.719287        1.906002      2.0  \n",
       "University of Wisconsin-Madison         1437.577146        1.892812      3.0  \n",
       "University of Michigan-Ann Arbor        1435.750776        1.888127      4.0  \n",
       "University of California-Los Angeles    1419.198253        1.845669      5.0  \n",
       "...                                             ...             ...      ...  \n",
       "University of Arkansas at Little Rock     75.525508       -1.600891    257.0  \n",
       "Tennessee Technological University        71.292524       -1.611749    258.0  \n",
       "Arkansas State University-Main Campus     63.717821       -1.631178    259.0  \n",
       "Texas Southern University                 50.251094       -1.665720    260.0  \n",
       "University of Maryland Eastern Shore      48.291519       -1.670747    261.0  \n",
       "\n",
       "[261 rows x 13 columns]"
      ]
     },
     "execution_count": 16,
     "metadata": {},
     "output_type": "execute_result"
    }
   ],
   "source": [
    "data2018.sort_values(by='ranking')"
   ]
  },
  {
   "cell_type": "markdown",
   "metadata": {},
   "source": [
    "Check for UNT"
   ]
  },
  {
   "cell_type": "code",
   "execution_count": 17,
   "metadata": {},
   "outputs": [
    {
     "data": {
      "text/plain": [
       "S&ER&D            35443.000000\n",
       "NONS&ER&D          8346.000000\n",
       "PDNFRSTAFF           55.000000\n",
       "FACNUM              767.000000\n",
       "HUM_RSD              62.000000\n",
       "SOCSC_RSD            19.000000\n",
       "STEM_RSD             64.000000\n",
       "OTHER_RSD           123.000000\n",
       "agg_index           723.883045\n",
       "per_cap_index       195.778183\n",
       "raw_distance        749.890498\n",
       "stand_distance        0.128875\n",
       "ranking             116.000000\n",
       "Name: University of North Texas, dtype: float64"
      ]
     },
     "execution_count": 17,
     "metadata": {},
     "output_type": "execute_result"
    }
   ],
   "source": [
    "data2018.loc['University of North Texas']"
   ]
  },
  {
   "cell_type": "markdown",
   "metadata": {},
   "source": [
    "### Split into R1 and R2 and plot"
   ]
  },
  {
   "cell_type": "code",
   "execution_count": 18,
   "metadata": {},
   "outputs": [
    {
     "name": "stdout",
     "output_type": "stream",
     "text": [
      "hello\n"
     ]
    },
    {
     "name": "stderr",
     "output_type": "stream",
     "text": [
      "C:\\Users\\crm0376\\AppData\\Local\\Temp/ipykernel_23196/1243232559.py:24: UserWarning: Matplotlib is currently using module://matplotlib_inline.backend_inline, which is a non-GUI backend, so cannot show the figure.\n",
      "  fig.show()\n"
     ]
    },
    {
     "data": {
      "image/png": "[encoded data removed]",
      "text/plain": [
       "<Figure size 550.8x375.84 with 1 Axes>"
      ]
     },
     "metadata": {
      "needs_background": "light"
     },
     "output_type": "display_data"
    }
   ],
   "source": [
    "print('hello')\n",
    "scaler = StandardScaler()\n",
    "std_agg =  scaler.fit_transform(data2018['agg_index'].values.reshape(-1,1))\n",
    "std_cap =  scaler.fit_transform(data2018['per_cap_index'].values.reshape(-1,1))\n",
    "\n",
    "min_x = min(std_agg)\n",
    "min_y =  min(std_cap)\n",
    "\n",
    "split = np.median(data2018['stand_distance'])\n",
    "colors =['green' if d <= split else 'blue' for d in data2018['stand_distance']]\n",
    "\n",
    "unt = list(data2018.index).index('University of North Texas')\n",
    "\n",
    "colors[unt] = 'red'\n",
    "\n",
    "fig, ax = plt.subplots(figsize=(7.65,5.22))\n",
    "ax.scatter(std_agg, std_cap,c=colors, zorder=5, clip_on=False)\n",
    "\n",
    "ax.set_xlim((min_x,2.25))\n",
    "ax.set_ylim((min_y,2.5))\n",
    "\n",
    "ax.set_xlabel('Aggregate Research Activity Index')\n",
    "ax.set_ylabel('Per Capita Research Activity Index')\n",
    "fig.show()"
   ]
  },
  {
   "cell_type": "markdown",
   "metadata": {},
   "source": [
    "### Wrap this all up into a Rank python class "
   ]
  },
  {
   "cell_type": "code",
   "execution_count": 19,
   "metadata": {},
   "outputs": [],
   "source": [
    "class Rank():\n",
    "\n",
    "    def __init__(self, data_dir, data_file):\n",
    "        columns = ['NAME','S&ER&D', 'NONS&ER&D', 'PDNFRSTAFF', 'FACNUM',\n",
    "                   'HUM_RSD', 'SOCSC_RSD', 'STEM_RSD', 'OTHER_RSD']\n",
    "        self.data = pd.read_excel(data_dir+data_file, sheet_name='Data',engine='openpyxl', usecols=columns, index_col='NAME')\n",
    "\n",
    "        self.data.columns = [c.lower().replace('&','') for c in self.data.columns]\n",
    "\n",
    "        self.data  =self.data [(self.data ['serd'] >=0)]\n",
    "        self.data .fillna(value=0, inplace=True)\n",
    "        # data2018.shape\n",
    "\n",
    "        self.data = self.apply_activity_index(self.data)\n",
    "\n",
    "    def apply_activity_index(self, data):\n",
    "        per_cap_serd = data['serd']/data['facnum']\n",
    "        per_cap_non_serd = data['nonserd']/data['facnum']\n",
    "        per_cap_staff = data['pdnfrstaff']/data['facnum']\n",
    "        \n",
    "        per_cap_serd_rank     = per_cap_serd.rank()\n",
    "        per_cap_non_serd_rank = per_cap_non_serd.rank()\n",
    "        per_cap_staff_rank    = per_cap_staff.rank()\n",
    "\n",
    "        serd_rank      = data['serd'].rank()\n",
    "        non_serd_rank  = data['nonserd'].rank()\n",
    "        staff_rank     = data['pdnfrstaff'].rank()\n",
    "        hum_rsd_rank   = data['hum_rsd'].rank()\n",
    "        sosc_rsd_rank  = data['socsc_rsd'].rank()\n",
    "        stem_rsd_rank  = data['stem_rsd'].rank()\n",
    "        other_rsd_rank = data['other_rsd'].rank()\n",
    "            \n",
    "        RankDF_cap  = pd.DataFrame({\n",
    "                            'per_cap_serd'     : per_cap_serd_rank, \n",
    "                            'per_cap_non_serd' : per_cap_non_serd_rank,\n",
    "                            'per_cap_staff'    : per_cap_staff_rank})\n",
    "        RankDF_agg = pd.DataFrame({\n",
    "                            'serd'             : serd_rank,\n",
    "                            'non_serd'         : non_serd_rank,\n",
    "                            'staff'            : staff_rank,\n",
    "                            'hum_rsd'          : hum_rsd_rank,\n",
    "                            'sosc_rsd'         : sosc_rsd_rank,\n",
    "                            'stem_rsd'         : stem_rsd_rank,\n",
    "                            'other_rsd'        : other_rsd_rank})\n",
    "\n",
    " \n",
    "        scaler = StandardScaler()\n",
    "        X = scaler.fit_transform(RankDF_cap)\n",
    "        pca = PCA( n_components=0.7, svd_solver='full')\n",
    "        pca.fit(X)\n",
    "        loadings_cap = pca.components_.T * np.sqrt(pca.explained_variance_)\n",
    "        loadings_matrix_cap = pd.DataFrame(loadings_cap, columns=['PC1'], index=RankDF_cap.columns)\n",
    "\n",
    "                \n",
    "        X = scaler.fit_transform(RankDF_agg)\n",
    "        pca = PCA(n_components=0.7, svd_solver = 'full')\n",
    "        pca.fit(X)\n",
    "        loadings_agg = pca.components_.T * np.sqrt(pca.explained_variance_)\n",
    "        loadings_matrix_agg = pd.DataFrame(loadings_agg, columns=['PC1'], index=RankDF_agg.columns)\n",
    "\n",
    "        agg_index = pd.Series(data= [0]*len(RankDF_agg), name='agg index', index=RankDF_agg.index)\n",
    "        for col in RankDF_agg.columns:\n",
    "            loading =  loadings_matrix_agg.loc[col].values[0]\n",
    "            weighted = RankDF_agg[col] * loading\n",
    "            agg_index += weighted\n",
    "\n",
    "        # display(agg_index.head())\n",
    "\n",
    "        per_cap_index = pd.Series(data= [0]*len(RankDF_cap), name='per-capita index', index=RankDF_cap.index)\n",
    "        for col in RankDF_cap.columns:\n",
    "            loading =  loadings_matrix_cap.loc[col].values[0]\n",
    "            weighted = RankDF_cap[col] * loading\n",
    "            per_cap_index += weighted\n",
    "\n",
    "        # display(per_cap_index.head())\n",
    "\n",
    "        agg_index = agg_index - min(agg_index)\n",
    "        data['agg_index'] = agg_index\n",
    "        per_cap_index = per_cap_index - min(per_cap_index)\n",
    "        data['per_cap_index'] = per_cap_index\n",
    "\n",
    "        raw_distance = np.sqrt(agg_index**2 + per_cap_index**2)\n",
    "        data['raw_distance'] = raw_distance\n",
    "\n",
    "        \n",
    "        stand_distance = (raw_distance - np.mean(raw_distance))/np.std(raw_distance)\n",
    "        data['stand_distance'] = stand_distance\n",
    "\n",
    "        ranking = stand_distance.rank(ascending=False)\n",
    "        data['ranking'] = ranking\n",
    "\n",
    "        return data\n",
    "\n",
    "    def re_rank(self,name, **kwargs):\n",
    "        \"\"\"input institution name and change in one or more measueres in {'serd', 'nonserd', \n",
    "           'pdnfrstaff', 'facnum', 'hum_rsd', 'socsc_rsd', 'stem_rsd', 'other_rsd'}\"\"\"\n",
    "\n",
    "        data = self.data.copy()\n",
    "        print(name)\n",
    "        for key, value in kwargs.items():\n",
    "            if key in ['serd', 'nonserd','pdnfrstaff', 'facnum', 'hum_rsd', 'socsc_rsd', 'stem_rsd', 'other_rsd']:\n",
    "                print('modifying' ,key , 'value')\n",
    "                data.loc[name][key] = value\n",
    "            else:\n",
    "                raise ValueError('not a valid measure')\n",
    "\n",
    "        return self.apply_activity_index(data)\n",
    "\n",
    "    \n",
    "    def plot_rank(self, data=None):\n",
    "        if not data:\n",
    "            data = self.data\n",
    "\n",
    "        std_agg =  scaler.fit_transform(data['agg_index'].values.reshape(-1,1))\n",
    "        std_cap =  scaler.fit_transform(data['per_cap_index'].values.reshape(-1,1))\n",
    "\n",
    "        min_x = min(std_agg)\n",
    "        min_y =  min(std_cap)\n",
    "        \n",
    "        split = np.median(data['stand_distance'])\n",
    "        colors =['green' if d <= split else 'blue' for d in data['stand_distance']]\n",
    "\n",
    "        unt = list(data.index).index('University of North Texas')\n",
    "\n",
    "        colors[unt] = 'red'\n",
    "\n",
    "        fig, ax = plt.subplots(figsize=(7.65,5.22))\n",
    "        ax.scatter(std_agg, std_cap,c=colors, zorder=5, clip_on=False)\n",
    "\n",
    "        ax.set_xlim((min_x,2.25))\n",
    "        ax.set_ylim((min_y,2.5))\n",
    "\n",
    "        ax.set_xlabel('Aggregate Research Activity Index')\n",
    "        ax.set_ylabel('Per Capita Research Activity Index')\n",
    "\n",
    "        return fig\n",
    "        "
   ]
  },
  {
   "cell_type": "markdown",
   "metadata": {},
   "source": [
    "## test class"
   ]
  },
  {
   "cell_type": "code",
   "execution_count": 20,
   "metadata": {},
   "outputs": [],
   "source": [
    "rank = Rank(DATA, data_file ='\\CCIHE2018-PublicDataFile_Rank_Applied.xlsx')"
   ]
  },
  {
   "cell_type": "code",
   "execution_count": 21,
   "metadata": {},
   "outputs": [
    {
     "data": {
      "image/png": "[encoded data removed]",
      "text/plain": [
       "<Figure size 550.8x375.84 with 1 Axes>"
      ]
     },
     "execution_count": 21,
     "metadata": {},
     "output_type": "execute_result"
    },
    {
     "data": {
      "image/png": "[encoded data removed]",
      "text/plain": [
       "<Figure size 550.8x375.84 with 1 Axes>"
      ]
     },
     "metadata": {
      "needs_background": "light"
     },
     "output_type": "display_data"
    }
   ],
   "source": [
    "rank.plot_rank()"
   ]
  },
  {
   "cell_type": "code",
   "execution_count": 22,
   "metadata": {},
   "outputs": [
    {
     "data": {
      "text/html": [
       "<div>\n",
       "<style scoped>\n",
       "    .dataframe tbody tr th:only-of-type {\n",
       "        vertical-align: middle;\n",
       "    }\n",
       "\n",
       "    .dataframe tbody tr th {\n",
       "        vertical-align: top;\n",
       "    }\n",
       "\n",
       "    .dataframe thead th {\n",
       "        text-align: right;\n",
       "    }\n",
       "</style>\n",
       "<table border=\"1\" class=\"dataframe\">\n",
       "  <thead>\n",
       "    <tr style=\"text-align: right;\">\n",
       "      <th></th>\n",
       "      <th>ranking</th>\n",
       "    </tr>\n",
       "    <tr>\n",
       "      <th>NAME</th>\n",
       "      <th></th>\n",
       "    </tr>\n",
       "  </thead>\n",
       "  <tbody>\n",
       "    <tr>\n",
       "      <th>Harvard University</th>\n",
       "      <td>1.0</td>\n",
       "    </tr>\n",
       "    <tr>\n",
       "      <th>University of Pennsylvania</th>\n",
       "      <td>2.0</td>\n",
       "    </tr>\n",
       "    <tr>\n",
       "      <th>University of Wisconsin-Madison</th>\n",
       "      <td>3.0</td>\n",
       "    </tr>\n",
       "    <tr>\n",
       "      <th>University of Michigan-Ann Arbor</th>\n",
       "      <td>4.0</td>\n",
       "    </tr>\n",
       "    <tr>\n",
       "      <th>University of California-Los Angeles</th>\n",
       "      <td>5.0</td>\n",
       "    </tr>\n",
       "    <tr>\n",
       "      <th>...</th>\n",
       "      <td>...</td>\n",
       "    </tr>\n",
       "    <tr>\n",
       "      <th>University of Arkansas at Little Rock</th>\n",
       "      <td>257.0</td>\n",
       "    </tr>\n",
       "    <tr>\n",
       "      <th>Tennessee Technological University</th>\n",
       "      <td>258.0</td>\n",
       "    </tr>\n",
       "    <tr>\n",
       "      <th>Arkansas State University-Main Campus</th>\n",
       "      <td>259.0</td>\n",
       "    </tr>\n",
       "    <tr>\n",
       "      <th>Texas Southern University</th>\n",
       "      <td>260.0</td>\n",
       "    </tr>\n",
       "    <tr>\n",
       "      <th>University of Maryland Eastern Shore</th>\n",
       "      <td>261.0</td>\n",
       "    </tr>\n",
       "  </tbody>\n",
       "</table>\n",
       "<p>261 rows × 1 columns</p>\n",
       "</div>"
      ],
      "text/plain": [
       "                                       ranking\n",
       "NAME                                          \n",
       "Harvard University                         1.0\n",
       "University of Pennsylvania                 2.0\n",
       "University of Wisconsin-Madison            3.0\n",
       "University of Michigan-Ann Arbor           4.0\n",
       "University of California-Los Angeles       5.0\n",
       "...                                        ...\n",
       "University of Arkansas at Little Rock    257.0\n",
       "Tennessee Technological University       258.0\n",
       "Arkansas State University-Main Campus    259.0\n",
       "Texas Southern University                260.0\n",
       "University of Maryland Eastern Shore     261.0\n",
       "\n",
       "[261 rows x 1 columns]"
      ]
     },
     "metadata": {},
     "output_type": "display_data"
    }
   ],
   "source": [
    "display(rank.data.sort_values(by='ranking')[['ranking']])"
   ]
  }
 ],
 "metadata": {
  "interpreter": {
   "hash": "a41e7d8d77b8b6dd1021a519514f228cea0ec03fcc9feb40fd395bd9239d39d9"
  },
  "kernelspec": {
   "display_name": "Python 3.9.5 64-bit (conda)",
   "language": "python",
   "name": "python3"
  },
  "language_info": {
   "codemirror_mode": {
    "name": "ipython",
    "version": 3
   },
   "file_extension": ".py",
   "mimetype": "text/x-python",
   "name": "python",
   "nbconvert_exporter": "python",
   "pygments_lexer": "ipython3",
   "version": "3.8.12"
  },
  "orig_nbformat": 4
 },
 "nbformat": 4,
 "nbformat_minor": 2
}
