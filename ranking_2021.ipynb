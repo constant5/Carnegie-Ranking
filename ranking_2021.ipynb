{
 "cells": [
  {
   "cell_type": "markdown",
   "metadata": {},
   "source": [
    "# Reproduction of Carnegie Research Activity Index Method\n",
    "\n",
    "## 2021 Rankings Old Version\n",
    "\n",
    "Based on https://carnegieclassifications.iu.edu/pdf/CCIHE2018_Research_Activity_Index_Method.pdf\n",
    "\n",
    "\n",
    "scikit-learn PCA loadings example found here: https://scentellegher.github.io/machine-learning/2020/01/27/pca-loadings-sklearn.html\n"
   ]
  },
  {
   "cell_type": "code",
   "execution_count": 1,
   "metadata": {},
   "outputs": [],
   "source": [
    "import pandas as pd\n",
    "from sklearn.decomposition import PCA\n",
    "from  sklearn.preprocessing import StandardScaler\n",
    "import numpy as np\n",
    "import matplotlib.pyplot as plt\n",
    "scaler = StandardScaler()\n",
    "\n",
    "DATA =  '..\\..\\Desktop\\Carnegie'\n",
    "# import sklearn"
   ]
  },
  {
   "cell_type": "markdown",
   "metadata": {},
   "source": [
    "### Import data only using columns required for ranking\n",
    "\n",
    "The data for the 261 institutions that were included in the analysis within the public file\n",
    "(http://carnegieclassifications.iu.edu/downloads/CCIHE2018-PublicDataFile.xlsx) specifically, the\n",
    "columns labeled: S&ER&D, NONS&ER&D, PDNFRSTAFF, FACNUM (used for per capita index calculation),\n",
    "HUM_RSD, SOCSC_RSD, STEM_RSD, OTHER_RSD. "
   ]
  },
  {
   "cell_type": "code",
   "execution_count": 2,
   "metadata": {},
   "outputs": [],
   "source": [
    "\n",
    "columns = ['name', 'serd','nonserd','pdnfrstaff','facnum','socsc_rsd','hum_rsd','stem_rsd','oth_rsd']\n",
    "data2021 = pd.read_excel(DATA+'\\\\CCIHE2021-PublicData.xlsx', sheet_name='Data',engine='openpyxl', usecols=columns, index_col='name')\n"
   ]
  },
  {
   "cell_type": "markdown",
   "metadata": {},
   "source": [
    "### Select only the 266 institutions with valid data\n",
    "The institutions should have values (including 0) for all seven variables. \n",
    "\n",
    "In practice I found that only selecting institutions with valid values for serd and nonserd gave 267 institutions. "
   ]
  },
  {
   "cell_type": "code",
   "execution_count": 3,
   "metadata": {},
   "outputs": [
    {
     "data": {
      "text/plain": [
       "(267, 8)"
      ]
     },
     "execution_count": 3,
     "metadata": {},
     "output_type": "execute_result"
    }
   ],
   "source": [
    "data2021 = data2021[(data2021['serd'] > 0) & (data2021['nonserd'] > 0)]\n",
    "data2021.fillna(value=0, inplace=True)\n",
    "data2021.shape"
   ]
  },
  {
   "cell_type": "markdown",
   "metadata": {},
   "source": [
    "#### Check for UNT"
   ]
  },
  {
   "cell_type": "code",
   "execution_count": 4,
   "metadata": {},
   "outputs": [
    {
     "data": {
      "text/plain": [
       "serd          57764.0\n",
       "nonserd       26475.0\n",
       "pdnfrstaff       66.0\n",
       "facnum          788.0\n",
       "socsc_rsd        29.0\n",
       "hum_rsd          75.0\n",
       "stem_rsd         78.0\n",
       "oth_rsd         130.0\n",
       "Name: University of North Texas, dtype: float64"
      ]
     },
     "execution_count": 4,
     "metadata": {},
     "output_type": "execute_result"
    }
   ],
   "source": [
    "data2021.loc['University of North Texas']"
   ]
  },
  {
   "cell_type": "markdown",
   "metadata": {},
   "source": [
    "**Step 1**: Calculate the three per capita measures by dividing each of the three research measures\n",
    "(S&ER&D, NONS&ER&D, PDNFRSTAFF) by the number of full-time ladder-rank faculty\n",
    "(FACNUM)."
   ]
  },
  {
   "cell_type": "code",
   "execution_count": 5,
   "metadata": {},
   "outputs": [],
   "source": [
    "per_cap_serd = data2021['serd']/data2021['facnum']\n",
    "per_cap_non_serd = data2021['nonserd']/data2021['facnum']\n",
    "per_cap_staff = data2021['pdnfrstaff']/data2021['facnum']"
   ]
  },
  {
   "cell_type": "markdown",
   "metadata": {},
   "source": [
    "**Step 2**: Convert all ten measures (the 7 raw measures and 3 per capita ones) to ranks from low = 1 to\n",
    "high = 261 (i.e., ascending order). "
   ]
  },
  {
   "cell_type": "code",
   "execution_count": 6,
   "metadata": {},
   "outputs": [],
   "source": [
    "per_cap_serd_rank     = per_cap_serd.rank()\n",
    "per_cap_non_serd_rank = per_cap_non_serd.rank()\n",
    "per_cap_staff_rank    = per_cap_staff.rank()\n",
    "\n",
    "serd_rank      = data2021['serd'].rank()\n",
    "non_serd_rank  = data2021['nonserd'].rank()\n",
    "staff_rank     = data2021['pdnfrstaff'].rank()\n",
    "hum_rsd_rank   = data2021['hum_rsd'].rank()\n",
    "sosc_rsd_rank  = data2021['socsc_rsd'].rank()\n",
    "stem_rsd_rank  = data2021['stem_rsd'].rank()\n",
    "other_rsd_rank = data2021['oth_rsd'].rank()"
   ]
  },
  {
   "cell_type": "markdown",
   "metadata": {},
   "source": [
    "**Note**: Carnegie uses the “RANK.AVG” function within Excel, where ties all receive the average value of the group followed by the next available number. For example, the seven numbers 10, 8, 8, 4, 4, 4, 2 would be ranked 7, 5.5, 5.5, 3, 3, 3, 1.\n",
    "\n",
    "We verify pandas rank() method returns the same values."
   ]
  },
  {
   "cell_type": "code",
   "execution_count": 7,
   "metadata": {},
   "outputs": [
    {
     "name": "stdout",
     "output_type": "stream",
     "text": [
      "0    7.0\n",
      "1    5.5\n",
      "2    5.5\n",
      "3    3.0\n",
      "4    3.0\n",
      "5    3.0\n",
      "6    1.0\n",
      "dtype: float64\n"
     ]
    }
   ],
   "source": [
    "test_rank = pd.Series([10, 8, 8, 4, 4, 4, 2]).rank()\n",
    "print(test_rank)\n",
    "assert(list(test_rank.values) == [7, 5.5, 5.5, 3, 3, 3, 1])"
   ]
  },
  {
   "cell_type": "markdown",
   "metadata": {},
   "source": [
    "**Step 3a**: Calculate the the PCA loadings for the per-capita and aggregated measures. "
   ]
  },
  {
   "cell_type": "code",
   "execution_count": 8,
   "metadata": {},
   "outputs": [],
   "source": [
    "RankDF_cap  = pd.DataFrame({\n",
    "        'per_cap_serd'     : per_cap_serd_rank, \n",
    "        'per_cap_non_serd' : per_cap_non_serd_rank,\n",
    "        'per_cap_staff'    : per_cap_staff_rank})\n",
    "RankDF_agg = pd.DataFrame({\n",
    "        'serd'             : serd_rank,\n",
    "        'non_serd'         : non_serd_rank,\n",
    "        'staff'            : staff_rank,\n",
    "        'hum_rsd'          : hum_rsd_rank,\n",
    "        'sosc_rsd'         : sosc_rsd_rank,\n",
    "        'stem_rsd'         : stem_rsd_rank,\n",
    "        'other_rsd'        : other_rsd_rank})"
   ]
  },
  {
   "cell_type": "code",
   "execution_count": 9,
   "metadata": {},
   "outputs": [
    {
     "name": "stdout",
     "output_type": "stream",
     "text": [
      "Per Capita PCA Loading\n"
     ]
    },
    {
     "data": {
      "text/html": [
       "<div>\n",
       "<style scoped>\n",
       "    .dataframe tbody tr th:only-of-type {\n",
       "        vertical-align: middle;\n",
       "    }\n",
       "\n",
       "    .dataframe tbody tr th {\n",
       "        vertical-align: top;\n",
       "    }\n",
       "\n",
       "    .dataframe thead th {\n",
       "        text-align: right;\n",
       "    }\n",
       "</style>\n",
       "<table border=\"1\" class=\"dataframe\">\n",
       "  <thead>\n",
       "    <tr style=\"text-align: right;\">\n",
       "      <th></th>\n",
       "      <th>PC1</th>\n",
       "    </tr>\n",
       "  </thead>\n",
       "  <tbody>\n",
       "    <tr>\n",
       "      <th>per_cap_serd</th>\n",
       "      <td>0.935248</td>\n",
       "    </tr>\n",
       "    <tr>\n",
       "      <th>per_cap_non_serd</th>\n",
       "      <td>0.620278</td>\n",
       "    </tr>\n",
       "    <tr>\n",
       "      <th>per_cap_staff</th>\n",
       "      <td>0.940596</td>\n",
       "    </tr>\n",
       "  </tbody>\n",
       "</table>\n",
       "</div>"
      ],
      "text/plain": [
       "                       PC1\n",
       "per_cap_serd      0.935248\n",
       "per_cap_non_serd  0.620278\n",
       "per_cap_staff     0.940596"
      ]
     },
     "metadata": {},
     "output_type": "display_data"
    }
   ],
   "source": [
    "\n",
    "print('Per Capita PCA Loading')\n",
    "scaler = StandardScaler()\n",
    "X = scaler.fit_transform(RankDF_cap)\n",
    "pca = PCA( n_components=0.7, svd_solver='full')\n",
    "pca.fit(X)\n",
    "\n",
    "loadings_cap = pca.components_.T * np.sqrt(pca.explained_variance_)\n",
    "loadings_matrix_cap = pd.DataFrame(loadings_cap, columns=['PC1'], index=RankDF_cap.columns)\n",
    "\n",
    "display(loadings_matrix_cap)\n"
   ]
  },
  {
   "cell_type": "code",
   "execution_count": 10,
   "metadata": {},
   "outputs": [
    {
     "name": "stdout",
     "output_type": "stream",
     "text": [
      "Aggregate PCA Loading\n"
     ]
    },
    {
     "data": {
      "text/html": [
       "<div>\n",
       "<style scoped>\n",
       "    .dataframe tbody tr th:only-of-type {\n",
       "        vertical-align: middle;\n",
       "    }\n",
       "\n",
       "    .dataframe tbody tr th {\n",
       "        vertical-align: top;\n",
       "    }\n",
       "\n",
       "    .dataframe thead th {\n",
       "        text-align: right;\n",
       "    }\n",
       "</style>\n",
       "<table border=\"1\" class=\"dataframe\">\n",
       "  <thead>\n",
       "    <tr style=\"text-align: right;\">\n",
       "      <th></th>\n",
       "      <th>PC1</th>\n",
       "    </tr>\n",
       "  </thead>\n",
       "  <tbody>\n",
       "    <tr>\n",
       "      <th>serd</th>\n",
       "      <td>0.904910</td>\n",
       "    </tr>\n",
       "    <tr>\n",
       "      <th>non_serd</th>\n",
       "      <td>0.806563</td>\n",
       "    </tr>\n",
       "    <tr>\n",
       "      <th>staff</th>\n",
       "      <td>0.907112</td>\n",
       "    </tr>\n",
       "    <tr>\n",
       "      <th>hum_rsd</th>\n",
       "      <td>0.840432</td>\n",
       "    </tr>\n",
       "    <tr>\n",
       "      <th>sosc_rsd</th>\n",
       "      <td>0.879330</td>\n",
       "    </tr>\n",
       "    <tr>\n",
       "      <th>stem_rsd</th>\n",
       "      <td>0.918868</td>\n",
       "    </tr>\n",
       "    <tr>\n",
       "      <th>other_rsd</th>\n",
       "      <td>0.598058</td>\n",
       "    </tr>\n",
       "  </tbody>\n",
       "</table>\n",
       "</div>"
      ],
      "text/plain": [
       "                PC1\n",
       "serd       0.904910\n",
       "non_serd   0.806563\n",
       "staff      0.907112\n",
       "hum_rsd    0.840432\n",
       "sosc_rsd   0.879330\n",
       "stem_rsd   0.918868\n",
       "other_rsd  0.598058"
      ]
     },
     "metadata": {},
     "output_type": "display_data"
    }
   ],
   "source": [
    "print('Aggregate PCA Loading')\n",
    "\n",
    "X = scaler.fit_transform(RankDF_agg)\n",
    "scaler = StandardScaler()\n",
    "pca = PCA(n_components=0.7, svd_solver = 'full')\n",
    "pca.fit(X)\n",
    "\n",
    "loadings_agg = pca.components_.T * np.sqrt(pca.explained_variance_)\n",
    "loadings_matrix_agg = pd.DataFrame(loadings_agg, columns=['PC1'], index=RankDF_agg.columns)\n",
    "\n",
    "display(loadings_matrix_agg)"
   ]
  },
  {
   "cell_type": "markdown",
   "metadata": {},
   "source": [
    "**Step 3b**: For each institution, calculate the aggregate index score and the per capita index score by\n",
    "multiplying the appropriate ranks (first seven measures for aggregate; 3 per capita measures for\n",
    "the per capita index) by the “PCA Coefficients” that are provided in the Research Activity Index\n",
    "file (http://carnegieclassifications.iu.edu/downloads/CCIHE2018-Research_Activity_Index.xlsx)\n",
    "and summing the weighted ranks for each index (resulting in two indexes). Make sure to copy\n",
    "the values from the spreadsheet rather than retyping what appears in the cells (full precision).\n",
    "\n",
    "For Ref the loadings provided by Carnegie:\n",
    "**PCA loadings based on rank-order data**\n",
    "\t\n",
    "| Aggregate analysis (first principal component explained 71% of the total variance)  |                   |\n",
    "|-------------------------------------------------------------------------------------|-------------------|\n",
    "| Doctorates:   STEM                                                                  | 0.82339601477801 |\n",
    "| S&E   R&D Expenditures                                                              | 0.923118812145701 |\n",
    "| Research   Staff                                                                    | 0.921930302147199 |\n",
    "| Doctorates:   Social Sciences                                                       | 0.85327562311548 |\n",
    "| Doctorates:   Humanities                                                            | 0.839135325109965 |\n",
    "| Non-S&E   R&D Expenditures                                                          | 0.80319701077825 |\n",
    "| Doctorates:   Other Fields                                                          | 0.923430930578641 |\n",
    "\n",
    "<br>\n",
    "\n",
    "| Per-capita analysis (first principal component explained 71% of the total variance) |                   |\n",
    "| ------------------------------------------------------------------------------------|-------------------|\n",
    "| Per-capita   S&E R&D Expenditures                                                   | 0.808603653170112          |\n",
    "| Per-capita   Research Staff                                                         | 0.582571938066721          |\n",
    "| Per-capita   Non-S&E R&D Expenditures                                               | 0.723888142210431          |\n"
   ]
  },
  {
   "cell_type": "code",
   "execution_count": 11,
   "metadata": {},
   "outputs": [
    {
     "data": {
      "text/plain": [
       "name\n",
       "American University                            622.611891\n",
       "Arizona State University Campus Immersion     1403.863674\n",
       "Arizona State University Digital Immersion     537.876348\n",
       "Arkansas State University                      218.594239\n",
       "Auburn University                              964.455962\n",
       "Name: agg index, dtype: float64"
      ]
     },
     "metadata": {},
     "output_type": "display_data"
    },
    {
     "data": {
      "text/plain": [
       "name\n",
       "American University                           272.701484\n",
       "Arizona State University Campus Immersion     466.237943\n",
       "Arizona State University Digital Immersion    345.830552\n",
       "Arkansas State University                      50.348864\n",
       "Auburn University                             401.127779\n",
       "Name: per-capita index, dtype: float64"
      ]
     },
     "metadata": {},
     "output_type": "display_data"
    }
   ],
   "source": [
    "agg_index = pd.Series(data= [0]*len(RankDF_agg), name='agg index', index=RankDF_agg.index)\n",
    "for col in RankDF_agg.columns:\n",
    "    loading =  loadings_matrix_agg.loc[col].values[0]\n",
    "    weighted = RankDF_agg[col] * loading\n",
    "    agg_index += weighted\n",
    "\n",
    "display(agg_index.head())\n",
    "\n",
    "per_cap_index = pd.Series(data= [0]*len(RankDF_cap), name='per-capita index', index=RankDF_cap.index)\n",
    "for col in RankDF_cap.columns:\n",
    "    loading =  loadings_matrix_cap.loc[col].values[0]\n",
    "    weighted = RankDF_cap[col] * loading\n",
    "    per_cap_index += weighted\n",
    "\n",
    "display(per_cap_index.head())\n"
   ]
  },
  {
   "cell_type": "markdown",
   "metadata": {},
   "source": [
    "**Step 4**: Create new versions of those two indices by subtracting the minimum value from each score (so\n",
    "the resulting minimum value is 0)."
   ]
  },
  {
   "cell_type": "code",
   "execution_count": 12,
   "metadata": {},
   "outputs": [],
   "source": [
    "agg_index = agg_index - min(agg_index)\n",
    "data2021['agg_index'] = agg_index\n",
    "per_cap_index = per_cap_index - min(per_cap_index)\n",
    "data2021['per_cap_index'] = per_cap_index"
   ]
  },
  {
   "cell_type": "markdown",
   "metadata": {},
   "source": [
    "**Step 5**: For each institution, use the zero adjusted versions of the two index scores created in step 4 to\n",
    "calculate the distance to the origin (0, 0) of the two index score using the standardized Euclidean\n",
    "Distance formula (Square root of sum of squared index).\n"
   ]
  },
  {
   "cell_type": "code",
   "execution_count": 13,
   "metadata": {},
   "outputs": [],
   "source": [
    "raw_distance = np.sqrt(agg_index**2 + per_cap_index**2)\n",
    "data2021['raw_distance'] = raw_distance"
   ]
  },
  {
   "cell_type": "markdown",
   "metadata": {},
   "source": [
    "**Step 6**: Convert the resulting raw distance score to a standardized value but subtracting the overall\n",
    "mean and dividing by the standard deviation (we used population standard deviation)."
   ]
  },
  {
   "cell_type": "code",
   "execution_count": 14,
   "metadata": {},
   "outputs": [],
   "source": [
    "\n",
    "stand_distance = (raw_distance - np.mean(raw_distance))/np.std(raw_distance)\n",
    "data2021['stand_distance'] = stand_distance"
   ]
  },
  {
   "cell_type": "markdown",
   "metadata": {},
   "source": [
    "### Finally convert to rank"
   ]
  },
  {
   "cell_type": "code",
   "execution_count": 15,
   "metadata": {},
   "outputs": [],
   "source": [
    "ranking = stand_distance.rank(ascending=False)\n",
    "data2021['ranking'] = ranking"
   ]
  },
  {
   "cell_type": "code",
   "execution_count": 16,
   "metadata": {},
   "outputs": [
    {
     "data": {
      "text/html": [
       "<div>\n",
       "<style scoped>\n",
       "    .dataframe tbody tr th:only-of-type {\n",
       "        vertical-align: middle;\n",
       "    }\n",
       "\n",
       "    .dataframe tbody tr th {\n",
       "        vertical-align: top;\n",
       "    }\n",
       "\n",
       "    .dataframe thead th {\n",
       "        text-align: right;\n",
       "    }\n",
       "</style>\n",
       "<table border=\"1\" class=\"dataframe\">\n",
       "  <thead>\n",
       "    <tr style=\"text-align: right;\">\n",
       "      <th></th>\n",
       "      <th>serd</th>\n",
       "      <th>nonserd</th>\n",
       "      <th>pdnfrstaff</th>\n",
       "      <th>facnum</th>\n",
       "      <th>socsc_rsd</th>\n",
       "      <th>hum_rsd</th>\n",
       "      <th>stem_rsd</th>\n",
       "      <th>oth_rsd</th>\n",
       "      <th>agg_index</th>\n",
       "      <th>per_cap_index</th>\n",
       "      <th>raw_distance</th>\n",
       "      <th>stand_distance</th>\n",
       "      <th>ranking</th>\n",
       "    </tr>\n",
       "    <tr>\n",
       "      <th>name</th>\n",
       "      <th></th>\n",
       "      <th></th>\n",
       "      <th></th>\n",
       "      <th></th>\n",
       "      <th></th>\n",
       "      <th></th>\n",
       "      <th></th>\n",
       "      <th></th>\n",
       "      <th></th>\n",
       "      <th></th>\n",
       "      <th></th>\n",
       "      <th></th>\n",
       "      <th></th>\n",
       "    </tr>\n",
       "  </thead>\n",
       "  <tbody>\n",
       "    <tr>\n",
       "      <th>Harvard University</th>\n",
       "      <td>1116344.0</td>\n",
       "      <td>123639.0</td>\n",
       "      <td>7147.0</td>\n",
       "      <td>1627.0</td>\n",
       "      <td>85.0</td>\n",
       "      <td>100.0</td>\n",
       "      <td>350.0</td>\n",
       "      <td>146.0</td>\n",
       "      <td>1342.302810</td>\n",
       "      <td>626.732301</td>\n",
       "      <td>1481.408185</td>\n",
       "      <td>1.968884</td>\n",
       "      <td>1.0</td>\n",
       "    </tr>\n",
       "    <tr>\n",
       "      <th>University of Pennsylvania</th>\n",
       "      <td>1432968.0</td>\n",
       "      <td>146396.0</td>\n",
       "      <td>1599.0</td>\n",
       "      <td>1725.0</td>\n",
       "      <td>53.0</td>\n",
       "      <td>93.0</td>\n",
       "      <td>266.0</td>\n",
       "      <td>180.0</td>\n",
       "      <td>1312.539637</td>\n",
       "      <td>623.579500</td>\n",
       "      <td>1453.138566</td>\n",
       "      <td>1.898275</td>\n",
       "      <td>2.0</td>\n",
       "    </tr>\n",
       "    <tr>\n",
       "      <th>University of Wisconsin-Madison</th>\n",
       "      <td>1272053.0</td>\n",
       "      <td>91878.0</td>\n",
       "      <td>1460.0</td>\n",
       "      <td>3412.0</td>\n",
       "      <td>91.0</td>\n",
       "      <td>105.0</td>\n",
       "      <td>444.0</td>\n",
       "      <td>110.0</td>\n",
       "      <td>1338.590411</td>\n",
       "      <td>534.998321</td>\n",
       "      <td>1441.543441</td>\n",
       "      <td>1.869313</td>\n",
       "      <td>3.0</td>\n",
       "    </tr>\n",
       "    <tr>\n",
       "      <th>University of Michigan-Ann Arbor</th>\n",
       "      <td>1572931.0</td>\n",
       "      <td>100931.0</td>\n",
       "      <td>2042.0</td>\n",
       "      <td>4273.0</td>\n",
       "      <td>79.0</td>\n",
       "      <td>92.0</td>\n",
       "      <td>628.0</td>\n",
       "      <td>76.0</td>\n",
       "      <td>1329.274862</td>\n",
       "      <td>531.022759</td>\n",
       "      <td>1431.417769</td>\n",
       "      <td>1.844022</td>\n",
       "      <td>4.0</td>\n",
       "    </tr>\n",
       "    <tr>\n",
       "      <th>University of California-Berkeley</th>\n",
       "      <td>796303.0</td>\n",
       "      <td>43697.0</td>\n",
       "      <td>1936.0</td>\n",
       "      <td>1516.0</td>\n",
       "      <td>65.0</td>\n",
       "      <td>115.0</td>\n",
       "      <td>545.0</td>\n",
       "      <td>87.0</td>\n",
       "      <td>1288.369448</td>\n",
       "      <td>592.547318</td>\n",
       "      <td>1418.100194</td>\n",
       "      <td>1.810759</td>\n",
       "      <td>5.0</td>\n",
       "    </tr>\n",
       "    <tr>\n",
       "      <th>...</th>\n",
       "      <td>...</td>\n",
       "      <td>...</td>\n",
       "      <td>...</td>\n",
       "      <td>...</td>\n",
       "      <td>...</td>\n",
       "      <td>...</td>\n",
       "      <td>...</td>\n",
       "      <td>...</td>\n",
       "      <td>...</td>\n",
       "      <td>...</td>\n",
       "      <td>...</td>\n",
       "      <td>...</td>\n",
       "      <td>...</td>\n",
       "    </tr>\n",
       "    <tr>\n",
       "      <th>Loyola Marymount University</th>\n",
       "      <td>4489.0</td>\n",
       "      <td>2704.0</td>\n",
       "      <td>3.0</td>\n",
       "      <td>572.0</td>\n",
       "      <td>0.0</td>\n",
       "      <td>0.0</td>\n",
       "      <td>0.0</td>\n",
       "      <td>21.0</td>\n",
       "      <td>30.591239</td>\n",
       "      <td>48.095624</td>\n",
       "      <td>57.000113</td>\n",
       "      <td>-1.588874</td>\n",
       "      <td>263.0</td>\n",
       "    </tr>\n",
       "    <tr>\n",
       "      <th>Arkansas State University</th>\n",
       "      <td>8637.0</td>\n",
       "      <td>3.0</td>\n",
       "      <td>2.0</td>\n",
       "      <td>397.0</td>\n",
       "      <td>0.0</td>\n",
       "      <td>5.0</td>\n",
       "      <td>4.0</td>\n",
       "      <td>16.0</td>\n",
       "      <td>47.650141</td>\n",
       "      <td>18.088944</td>\n",
       "      <td>50.968086</td>\n",
       "      <td>-1.603940</td>\n",
       "      <td>264.0</td>\n",
       "    </tr>\n",
       "    <tr>\n",
       "      <th>Southern University and A &amp; M College</th>\n",
       "      <td>7707.0</td>\n",
       "      <td>617.0</td>\n",
       "      <td>0.0</td>\n",
       "      <td>218.0</td>\n",
       "      <td>0.0</td>\n",
       "      <td>0.0</td>\n",
       "      <td>10.0</td>\n",
       "      <td>12.0</td>\n",
       "      <td>0.000000</td>\n",
       "      <td>50.111131</td>\n",
       "      <td>50.111131</td>\n",
       "      <td>-1.606081</td>\n",
       "      <td>265.0</td>\n",
       "    </tr>\n",
       "    <tr>\n",
       "      <th>University of Colorado Colorado Springs</th>\n",
       "      <td>4385.0</td>\n",
       "      <td>1172.0</td>\n",
       "      <td>0.0</td>\n",
       "      <td>272.0</td>\n",
       "      <td>1.0</td>\n",
       "      <td>0.0</td>\n",
       "      <td>16.0</td>\n",
       "      <td>8.0</td>\n",
       "      <td>30.945861</td>\n",
       "      <td>39.125815</td>\n",
       "      <td>49.884624</td>\n",
       "      <td>-1.606646</td>\n",
       "      <td>266.0</td>\n",
       "    </tr>\n",
       "    <tr>\n",
       "      <th>West Chester University of Pennsylvania</th>\n",
       "      <td>2862.0</td>\n",
       "      <td>3552.0</td>\n",
       "      <td>0.0</td>\n",
       "      <td>576.0</td>\n",
       "      <td>0.0</td>\n",
       "      <td>0.0</td>\n",
       "      <td>0.0</td>\n",
       "      <td>24.0</td>\n",
       "      <td>19.560571</td>\n",
       "      <td>33.771316</td>\n",
       "      <td>39.027141</td>\n",
       "      <td>-1.633765</td>\n",
       "      <td>267.0</td>\n",
       "    </tr>\n",
       "  </tbody>\n",
       "</table>\n",
       "<p>267 rows × 13 columns</p>\n",
       "</div>"
      ],
      "text/plain": [
       "                                              serd   nonserd  pdnfrstaff  \\\n",
       "name                                                                       \n",
       "Harvard University                       1116344.0  123639.0      7147.0   \n",
       "University of Pennsylvania               1432968.0  146396.0      1599.0   \n",
       "University of Wisconsin-Madison          1272053.0   91878.0      1460.0   \n",
       "University of Michigan-Ann Arbor         1572931.0  100931.0      2042.0   \n",
       "University of California-Berkeley         796303.0   43697.0      1936.0   \n",
       "...                                            ...       ...         ...   \n",
       "Loyola Marymount University                 4489.0    2704.0         3.0   \n",
       "Arkansas State University                   8637.0       3.0         2.0   \n",
       "Southern University and A & M College       7707.0     617.0         0.0   \n",
       "University of Colorado Colorado Springs     4385.0    1172.0         0.0   \n",
       "West Chester University of Pennsylvania     2862.0    3552.0         0.0   \n",
       "\n",
       "                                         facnum  socsc_rsd  hum_rsd  stem_rsd  \\\n",
       "name                                                                            \n",
       "Harvard University                       1627.0       85.0    100.0     350.0   \n",
       "University of Pennsylvania               1725.0       53.0     93.0     266.0   \n",
       "University of Wisconsin-Madison          3412.0       91.0    105.0     444.0   \n",
       "University of Michigan-Ann Arbor         4273.0       79.0     92.0     628.0   \n",
       "University of California-Berkeley        1516.0       65.0    115.0     545.0   \n",
       "...                                         ...        ...      ...       ...   \n",
       "Loyola Marymount University               572.0        0.0      0.0       0.0   \n",
       "Arkansas State University                 397.0        0.0      5.0       4.0   \n",
       "Southern University and A & M College     218.0        0.0      0.0      10.0   \n",
       "University of Colorado Colorado Springs   272.0        1.0      0.0      16.0   \n",
       "West Chester University of Pennsylvania   576.0        0.0      0.0       0.0   \n",
       "\n",
       "                                         oth_rsd    agg_index  per_cap_index  \\\n",
       "name                                                                           \n",
       "Harvard University                         146.0  1342.302810     626.732301   \n",
       "University of Pennsylvania                 180.0  1312.539637     623.579500   \n",
       "University of Wisconsin-Madison            110.0  1338.590411     534.998321   \n",
       "University of Michigan-Ann Arbor            76.0  1329.274862     531.022759   \n",
       "University of California-Berkeley           87.0  1288.369448     592.547318   \n",
       "...                                          ...          ...            ...   \n",
       "Loyola Marymount University                 21.0    30.591239      48.095624   \n",
       "Arkansas State University                   16.0    47.650141      18.088944   \n",
       "Southern University and A & M College       12.0     0.000000      50.111131   \n",
       "University of Colorado Colorado Springs      8.0    30.945861      39.125815   \n",
       "West Chester University of Pennsylvania     24.0    19.560571      33.771316   \n",
       "\n",
       "                                         raw_distance  stand_distance  ranking  \n",
       "name                                                                            \n",
       "Harvard University                        1481.408185        1.968884      1.0  \n",
       "University of Pennsylvania                1453.138566        1.898275      2.0  \n",
       "University of Wisconsin-Madison           1441.543441        1.869313      3.0  \n",
       "University of Michigan-Ann Arbor          1431.417769        1.844022      4.0  \n",
       "University of California-Berkeley         1418.100194        1.810759      5.0  \n",
       "...                                               ...             ...      ...  \n",
       "Loyola Marymount University                 57.000113       -1.588874    263.0  \n",
       "Arkansas State University                   50.968086       -1.603940    264.0  \n",
       "Southern University and A & M College       50.111131       -1.606081    265.0  \n",
       "University of Colorado Colorado Springs     49.884624       -1.606646    266.0  \n",
       "West Chester University of Pennsylvania     39.027141       -1.633765    267.0  \n",
       "\n",
       "[267 rows x 13 columns]"
      ]
     },
     "execution_count": 16,
     "metadata": {},
     "output_type": "execute_result"
    }
   ],
   "source": [
    "data2021.sort_values(by='ranking')"
   ]
  },
  {
   "cell_type": "markdown",
   "metadata": {},
   "source": [
    "Check for UNT"
   ]
  },
  {
   "cell_type": "code",
   "execution_count": 17,
   "metadata": {},
   "outputs": [
    {
     "data": {
      "text/plain": [
       "serd              57764.000000\n",
       "nonserd           26475.000000\n",
       "pdnfrstaff           66.000000\n",
       "facnum              788.000000\n",
       "socsc_rsd            29.000000\n",
       "hum_rsd              75.000000\n",
       "stem_rsd             78.000000\n",
       "oth_rsd             130.000000\n",
       "agg_index           859.302769\n",
       "per_cap_index       291.127700\n",
       "raw_distance        907.279773\n",
       "stand_distance        0.534878\n",
       "ranking              86.000000\n",
       "Name: University of North Texas, dtype: float64"
      ]
     },
     "execution_count": 17,
     "metadata": {},
     "output_type": "execute_result"
    }
   ],
   "source": [
    "data2021.loc['University of North Texas']"
   ]
  },
  {
   "cell_type": "markdown",
   "metadata": {},
   "source": [
    "### Split into R1 and R2 and plot"
   ]
  },
  {
   "cell_type": "code",
   "execution_count": 18,
   "metadata": {},
   "outputs": [
    {
     "name": "stdout",
     "output_type": "stream",
     "text": [
      "hello\n"
     ]
    },
    {
     "data": {
      "image/png": "[encoded data removed]",
      "text/plain": [
       "<Figure size 550.8x375.84 with 1 Axes>"
      ]
     },
     "metadata": {
      "needs_background": "light"
     },
     "output_type": "display_data"
    }
   ],
   "source": [
    "print('hello')\n",
    "scaler = StandardScaler()\n",
    "std_agg =  scaler.fit_transform(data2021['agg_index'].values.reshape(-1,1))\n",
    "std_cap =  scaler.fit_transform(data2021['per_cap_index'].values.reshape(-1,1))\n",
    "\n",
    "min_x = min(std_agg)\n",
    "min_y =  min(std_cap)\n",
    "\n",
    "split = np.median(data2021['stand_distance'])\n",
    "colors =['green' if d <= split else 'blue' for d in data2021['stand_distance']]\n",
    "\n",
    "unt = list(data2021.index).index('University of North Texas')\n",
    "\n",
    "colors[unt] = 'red'\n",
    "\n",
    "fig, ax = plt.subplots(figsize=(7.65,5.22))\n",
    "ax.scatter(std_agg, std_cap,c=colors, zorder=5, clip_on=False)\n",
    "\n",
    "ax.set_xlim((min_x,2.25))\n",
    "ax.set_ylim((min_y,2.5))\n",
    "\n",
    "ax.set_xlabel('Aggregate Research Activity Index')\n",
    "ax.set_ylabel('Per Capita Research Activity Index')\n",
    "plt.show()"
   ]
  },
  {
   "cell_type": "markdown",
   "metadata": {},
   "source": [
    "### Wrap this all up into a Rank python class "
   ]
  },
  {
   "cell_type": "code",
   "execution_count": 19,
   "metadata": {},
   "outputs": [],
   "source": [
    "class Rank():\n",
    "\n",
    "    def __init__(self, data_dir, data_file):\n",
    "        columns = ['name', 'serd','nonserd','pdnfrstaff','facnum','socsc_rsd','hum_rsd','stem_rsd','oth_rsd']\n",
    "\n",
    "        self.data = pd.read_excel(DATA+'\\\\CCIHE2021-PublicData.xlsx',\n",
    "                                  sheet_name='Data',\n",
    "                                  engine='openpyxl',\n",
    "                                  usecols=columns,\n",
    "                                  index_col='name')\n",
    "\n",
    "        self.data  = self.data[(self.data['serd'] > 0) & (self.data['nonserd'] > 0)]\n",
    "        self.data .fillna(value=0, inplace=True)\n",
    "        # data2018.shape\n",
    "\n",
    "        self.data = self.apply_activity_index(self.data)\n",
    "\n",
    "    def apply_activity_index(self, data):\n",
    "        per_cap_serd = data['serd']/data['facnum']\n",
    "        per_cap_non_serd = data['nonserd']/data['facnum']\n",
    "        per_cap_staff = data['pdnfrstaff']/data['facnum']\n",
    "        \n",
    "        per_cap_serd_rank     = per_cap_serd.rank()\n",
    "        per_cap_non_serd_rank = per_cap_non_serd.rank()\n",
    "        per_cap_staff_rank    = per_cap_staff.rank()\n",
    "\n",
    "        serd_rank      = data['serd'].rank()\n",
    "        non_serd_rank  = data['nonserd'].rank()\n",
    "        staff_rank     = data['pdnfrstaff'].rank()\n",
    "        hum_rsd_rank   = data['hum_rsd'].rank()\n",
    "        sosc_rsd_rank  = data['socsc_rsd'].rank()\n",
    "        stem_rsd_rank  = data['stem_rsd'].rank()\n",
    "        other_rsd_rank = data['oth_rsd'].rank()\n",
    "            \n",
    "        RankDF_cap  = pd.DataFrame({\n",
    "                            'per_cap_serd'     : per_cap_serd_rank, \n",
    "                            'per_cap_non_serd' : per_cap_non_serd_rank,\n",
    "                            'per_cap_staff'    : per_cap_staff_rank})\n",
    "        RankDF_agg = pd.DataFrame({\n",
    "                            'serd'             : serd_rank,\n",
    "                            'non_serd'         : non_serd_rank,\n",
    "                            'staff'            : staff_rank,\n",
    "                            'hum_rsd'          : hum_rsd_rank,\n",
    "                            'sosc_rsd'         : sosc_rsd_rank,\n",
    "                            'stem_rsd'         : stem_rsd_rank,\n",
    "                            'other_rsd'        : other_rsd_rank})\n",
    "\n",
    " \n",
    "        scaler = StandardScaler()\n",
    "        X = scaler.fit_transform(RankDF_cap)\n",
    "        pca = PCA( n_components=0.7, svd_solver='full')\n",
    "        pca.fit(X)\n",
    "        loadings_cap = pca.components_.T * np.sqrt(pca.explained_variance_)\n",
    "        loadings_matrix_cap = pd.DataFrame(loadings_cap, columns=['PC1'], index=RankDF_cap.columns)\n",
    "\n",
    "                \n",
    "        X = scaler.fit_transform(RankDF_agg)\n",
    "        pca = PCA(n_components=0.7, svd_solver = 'full')\n",
    "        pca.fit(X)\n",
    "        loadings_agg = pca.components_.T * np.sqrt(pca.explained_variance_)\n",
    "        loadings_matrix_agg = pd.DataFrame(loadings_agg, columns=['PC1'], index=RankDF_agg.columns)\n",
    "\n",
    "        agg_index = pd.Series(data= [0]*len(RankDF_agg), name='agg index', index=RankDF_agg.index)\n",
    "        for col in RankDF_agg.columns:\n",
    "            loading =  loadings_matrix_agg.loc[col].values[0]\n",
    "            weighted = RankDF_agg[col] * loading\n",
    "            agg_index += weighted\n",
    "\n",
    "        # display(agg_index.head())\n",
    "\n",
    "        per_cap_index = pd.Series(data= [0]*len(RankDF_cap), name='per-capita index', index=RankDF_cap.index)\n",
    "        for col in RankDF_cap.columns:\n",
    "            loading =  loadings_matrix_cap.loc[col].values[0]\n",
    "            weighted = RankDF_cap[col] * loading\n",
    "            per_cap_index += weighted\n",
    "\n",
    "        # display(per_cap_index.head())\n",
    "\n",
    "        agg_index = agg_index - min(agg_index)\n",
    "        data['agg_index'] = agg_index\n",
    "        per_cap_index = per_cap_index - min(per_cap_index)\n",
    "        data['per_cap_index'] = per_cap_index\n",
    "\n",
    "        raw_distance = np.sqrt(agg_index**2 + per_cap_index**2)\n",
    "        data['raw_distance'] = raw_distance\n",
    "\n",
    "        \n",
    "        stand_distance = (raw_distance - np.mean(raw_distance))/np.std(raw_distance)\n",
    "        data['stand_distance'] = stand_distance\n",
    "\n",
    "        ranking = stand_distance.rank(ascending=False)\n",
    "        data['ranking'] = ranking\n",
    "\n",
    "        return data\n",
    "\n",
    "    def re_rank(self,name, **kwargs):\n",
    "        \"\"\"input institution name and change in one or more measueres in {'serd', 'nonserd', \n",
    "           'pdnfrstaff', 'facnum', 'hum_rsd', 'socsc_rsd', 'stem_rsd', 'other_rsd'}\"\"\"\n",
    "\n",
    "        data = self.data.copy()\n",
    "        print(name)\n",
    "        for key, value in kwargs.items():\n",
    "            if key in ['serd', 'nonserd','pdnfrstaff', 'facnum', 'hum_rsd', 'socsc_rsd', 'stem_rsd', 'other_rsd']:\n",
    "                print('modifying' ,key , 'value')\n",
    "                data.loc[name][key] = value\n",
    "            else:\n",
    "                raise ValueError('not a valid measure')\n",
    "\n",
    "        return self.apply_activity_index(data)\n",
    "\n",
    "    \n",
    "    def plot_rank(self, data=None):\n",
    "        if not data:\n",
    "            data = self.data\n",
    "\n",
    "        std_agg =  scaler.fit_transform(data['agg_index'].values.reshape(-1,1))\n",
    "        std_cap =  scaler.fit_transform(data['per_cap_index'].values.reshape(-1,1))\n",
    "\n",
    "        min_x = min(std_agg)\n",
    "        min_y =  min(std_cap)\n",
    "        \n",
    "        split = np.median(data['stand_distance'])\n",
    "        colors =['green' if d <= split else 'blue' for d in data['stand_distance']]\n",
    "\n",
    "        unt = list(data.index).index('University of North Texas')\n",
    "\n",
    "        colors[unt] = 'red'\n",
    "\n",
    "        fig, ax = plt.subplots(figsize=(7.65,5.22))\n",
    "        ax.scatter(std_agg, std_cap,c=colors, zorder=5, clip_on=False)\n",
    "\n",
    "        ax.set_xlim((min_x,2.25))\n",
    "        ax.set_ylim((min_y,2.5))\n",
    "\n",
    "        ax.set_xlabel('Aggregate Research Activity Index')\n",
    "        ax.set_ylabel('Per Capita Research Activity Index')\n",
    "\n",
    "        return fig\n",
    "        "
   ]
  },
  {
   "cell_type": "markdown",
   "metadata": {},
   "source": [
    "## test class"
   ]
  },
  {
   "cell_type": "code",
   "execution_count": 20,
   "metadata": {},
   "outputs": [],
   "source": [
    "rank = Rank(DATA, data_file ='\\CCIHE2021-PublicDataFile.xlsx')"
   ]
  },
  {
   "cell_type": "code",
   "execution_count": 21,
   "metadata": {},
   "outputs": [
    {
     "name": "stderr",
     "output_type": "stream",
     "text": [
      "C:\\Users\\crm0376\\AppData\\Local\\Temp/ipykernel_22388/1577837839.py:2: UserWarning: Matplotlib is currently using module://matplotlib_inline.backend_inline, which is a non-GUI backend, so cannot show the figure.\n",
      "  fig.show()\n"
     ]
    },
    {
     "data": {
      "image/png": "[encoded data removed]",
      "text/plain": [
       "<Figure size 550.8x375.84 with 1 Axes>"
      ]
     },
     "metadata": {
      "needs_background": "light"
     },
     "output_type": "display_data"
    }
   ],
   "source": [
    "fig = rank.plot_rank()\n",
    "fig.show()"
   ]
  },
  {
   "cell_type": "code",
   "execution_count": 22,
   "metadata": {},
   "outputs": [
    {
     "data": {
      "text/html": [
       "<div>\n",
       "<style scoped>\n",
       "    .dataframe tbody tr th:only-of-type {\n",
       "        vertical-align: middle;\n",
       "    }\n",
       "\n",
       "    .dataframe tbody tr th {\n",
       "        vertical-align: top;\n",
       "    }\n",
       "\n",
       "    .dataframe thead th {\n",
       "        text-align: right;\n",
       "    }\n",
       "</style>\n",
       "<table border=\"1\" class=\"dataframe\">\n",
       "  <thead>\n",
       "    <tr style=\"text-align: right;\">\n",
       "      <th></th>\n",
       "      <th>ranking</th>\n",
       "    </tr>\n",
       "    <tr>\n",
       "      <th>name</th>\n",
       "      <th></th>\n",
       "    </tr>\n",
       "  </thead>\n",
       "  <tbody>\n",
       "    <tr>\n",
       "      <th>Harvard University</th>\n",
       "      <td>1.0</td>\n",
       "    </tr>\n",
       "    <tr>\n",
       "      <th>University of Pennsylvania</th>\n",
       "      <td>2.0</td>\n",
       "    </tr>\n",
       "    <tr>\n",
       "      <th>University of Wisconsin-Madison</th>\n",
       "      <td>3.0</td>\n",
       "    </tr>\n",
       "    <tr>\n",
       "      <th>University of Michigan-Ann Arbor</th>\n",
       "      <td>4.0</td>\n",
       "    </tr>\n",
       "    <tr>\n",
       "      <th>University of California-Berkeley</th>\n",
       "      <td>5.0</td>\n",
       "    </tr>\n",
       "    <tr>\n",
       "      <th>...</th>\n",
       "      <td>...</td>\n",
       "    </tr>\n",
       "    <tr>\n",
       "      <th>Loyola Marymount University</th>\n",
       "      <td>263.0</td>\n",
       "    </tr>\n",
       "    <tr>\n",
       "      <th>Arkansas State University</th>\n",
       "      <td>264.0</td>\n",
       "    </tr>\n",
       "    <tr>\n",
       "      <th>Southern University and A &amp; M College</th>\n",
       "      <td>265.0</td>\n",
       "    </tr>\n",
       "    <tr>\n",
       "      <th>University of Colorado Colorado Springs</th>\n",
       "      <td>266.0</td>\n",
       "    </tr>\n",
       "    <tr>\n",
       "      <th>West Chester University of Pennsylvania</th>\n",
       "      <td>267.0</td>\n",
       "    </tr>\n",
       "  </tbody>\n",
       "</table>\n",
       "<p>267 rows × 1 columns</p>\n",
       "</div>"
      ],
      "text/plain": [
       "                                         ranking\n",
       "name                                            \n",
       "Harvard University                           1.0\n",
       "University of Pennsylvania                   2.0\n",
       "University of Wisconsin-Madison              3.0\n",
       "University of Michigan-Ann Arbor             4.0\n",
       "University of California-Berkeley            5.0\n",
       "...                                          ...\n",
       "Loyola Marymount University                263.0\n",
       "Arkansas State University                  264.0\n",
       "Southern University and A & M College      265.0\n",
       "University of Colorado Colorado Springs    266.0\n",
       "West Chester University of Pennsylvania    267.0\n",
       "\n",
       "[267 rows x 1 columns]"
      ]
     },
     "metadata": {},
     "output_type": "display_data"
    }
   ],
   "source": [
    "display(rank.data.sort_values(by='ranking')[['ranking']])"
   ]
  }
 ],
 "metadata": {
  "interpreter": {
   "hash": "a41e7d8d77b8b6dd1021a519514f228cea0ec03fcc9feb40fd395bd9239d39d9"
  },
  "kernelspec": {
   "display_name": "Python 3.9.5 64-bit (conda)",
   "language": "python",
   "name": "python3"
  },
  "language_info": {
   "codemirror_mode": {
    "name": "ipython",
    "version": 3
   },
   "file_extension": ".py",
   "mimetype": "text/x-python",
   "name": "python",
   "nbconvert_exporter": "python",
   "pygments_lexer": "ipython3",
   "version": "3.8.12"
  },
  "orig_nbformat": 4
 },
 "nbformat": 4,
 "nbformat_minor": 2
}
