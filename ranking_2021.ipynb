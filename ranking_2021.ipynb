{
 "cells": [
  {
   "cell_type": "code",
   "execution_count": 9,
   "metadata": {},
   "outputs": [],
   "source": [
    "DATA =  '..\\..\\Desktop\\Carnegie'\n",
    "# import sklearn"
   ]
  },
  {
   "cell_type": "code",
   "execution_count": 7,
   "metadata": {},
   "outputs": [
    {
     "name": "stdout",
     "output_type": "stream",
     "text": [
      "Index(['name', 'serd', 'nonserd', 'pdnfrstaff', 'facnum', 'socsc_rsd',\n",
      "       'hum_rsd', 'stem_rsd', 'oth_rsd'],\n",
      "      dtype='object')\n"
     ]
    },
    {
     "data": {
      "text/html": [
       "<div>\n",
       "<style scoped>\n",
       "    .dataframe tbody tr th:only-of-type {\n",
       "        vertical-align: middle;\n",
       "    }\n",
       "\n",
       "    .dataframe tbody tr th {\n",
       "        vertical-align: top;\n",
       "    }\n",
       "\n",
       "    .dataframe thead th {\n",
       "        text-align: right;\n",
       "    }\n",
       "</style>\n",
       "<table border=\"1\" class=\"dataframe\">\n",
       "  <thead>\n",
       "    <tr style=\"text-align: right;\">\n",
       "      <th></th>\n",
       "      <th>name</th>\n",
       "      <th>serd</th>\n",
       "      <th>nonserd</th>\n",
       "      <th>pdnfrstaff</th>\n",
       "      <th>facnum</th>\n",
       "      <th>socsc_rsd</th>\n",
       "      <th>hum_rsd</th>\n",
       "      <th>stem_rsd</th>\n",
       "      <th>oth_rsd</th>\n",
       "    </tr>\n",
       "  </thead>\n",
       "  <tbody>\n",
       "    <tr>\n",
       "      <th>0</th>\n",
       "      <td>A T Still University of Health Sciences</td>\n",
       "      <td>NaN</td>\n",
       "      <td>NaN</td>\n",
       "      <td>NaN</td>\n",
       "      <td>NaN</td>\n",
       "      <td>NaN</td>\n",
       "      <td>NaN</td>\n",
       "      <td>NaN</td>\n",
       "      <td>NaN</td>\n",
       "    </tr>\n",
       "    <tr>\n",
       "      <th>1</th>\n",
       "      <td>AI Miami International University of Art and D...</td>\n",
       "      <td>NaN</td>\n",
       "      <td>NaN</td>\n",
       "      <td>NaN</td>\n",
       "      <td>NaN</td>\n",
       "      <td>NaN</td>\n",
       "      <td>NaN</td>\n",
       "      <td>NaN</td>\n",
       "      <td>NaN</td>\n",
       "    </tr>\n",
       "    <tr>\n",
       "      <th>2</th>\n",
       "      <td>AOMA Graduate School of Integrative Medicine</td>\n",
       "      <td>NaN</td>\n",
       "      <td>NaN</td>\n",
       "      <td>NaN</td>\n",
       "      <td>NaN</td>\n",
       "      <td>NaN</td>\n",
       "      <td>NaN</td>\n",
       "      <td>NaN</td>\n",
       "      <td>NaN</td>\n",
       "    </tr>\n",
       "    <tr>\n",
       "      <th>3</th>\n",
       "      <td>ASA College</td>\n",
       "      <td>NaN</td>\n",
       "      <td>NaN</td>\n",
       "      <td>NaN</td>\n",
       "      <td>NaN</td>\n",
       "      <td>NaN</td>\n",
       "      <td>NaN</td>\n",
       "      <td>NaN</td>\n",
       "      <td>NaN</td>\n",
       "    </tr>\n",
       "    <tr>\n",
       "      <th>4</th>\n",
       "      <td>ATA Career Education</td>\n",
       "      <td>NaN</td>\n",
       "      <td>NaN</td>\n",
       "      <td>NaN</td>\n",
       "      <td>NaN</td>\n",
       "      <td>NaN</td>\n",
       "      <td>NaN</td>\n",
       "      <td>NaN</td>\n",
       "      <td>NaN</td>\n",
       "    </tr>\n",
       "  </tbody>\n",
       "</table>\n",
       "</div>"
      ],
      "text/plain": [
       "                                                name  serd  nonserd  \\\n",
       "0            A T Still University of Health Sciences   NaN      NaN   \n",
       "1  AI Miami International University of Art and D...   NaN      NaN   \n",
       "2       AOMA Graduate School of Integrative Medicine   NaN      NaN   \n",
       "3                                        ASA College   NaN      NaN   \n",
       "4                               ATA Career Education   NaN      NaN   \n",
       "\n",
       "   pdnfrstaff  facnum  socsc_rsd  hum_rsd  stem_rsd  oth_rsd  \n",
       "0         NaN     NaN        NaN      NaN       NaN      NaN  \n",
       "1         NaN     NaN        NaN      NaN       NaN      NaN  \n",
       "2         NaN     NaN        NaN      NaN       NaN      NaN  \n",
       "3         NaN     NaN        NaN      NaN       NaN      NaN  \n",
       "4         NaN     NaN        NaN      NaN       NaN      NaN  "
      ]
     },
     "execution_count": 7,
     "metadata": {},
     "output_type": "execute_result"
    }
   ],
   "source": [
    "import pandas as pd\n",
    "columns = ['name', 'serd','nonserd','pdnfrstaff','facnum','socsc_rsd','hum_rsd','stem_rsd','oth_rsd']\n",
    "\n",
    "\n",
    "data2021 = pd.read_excel(DATA+'\\\\CCIHE2021-PublicData.xlsx', sheet_name='Data',engine='openpyxl', usecols=columns)\n",
    "# data2018 = pd.read_excel(DATA+'\\CCIHE2018-PublicDataFile_Rank_Applied.xlsx', sheet_name='Data',engine='openpyxl')\n",
    "print(data2021.columns)\n",
    "data2021.head()"
   ]
  },
  {
   "cell_type": "code",
   "execution_count": 11,
   "metadata": {},
   "outputs": [
    {
     "data": {
      "text/plain": [
       "(267, 9)"
      ]
     },
     "execution_count": 11,
     "metadata": {},
     "output_type": "execute_result"
    }
   ],
   "source": [
    "data2021 = data2021[(data2021['serd'] > 0) & (data2021['nonserd'] > 0)]\n",
    "data2021.fillna(value=0, inplace=True)\n",
    "data2021.shape"
   ]
  },
  {
   "cell_type": "code",
   "execution_count": 12,
   "metadata": {},
   "outputs": [
    {
     "data": {
      "text/html": [
       "<div>\n",
       "<style scoped>\n",
       "    .dataframe tbody tr th:only-of-type {\n",
       "        vertical-align: middle;\n",
       "    }\n",
       "\n",
       "    .dataframe tbody tr th {\n",
       "        vertical-align: top;\n",
       "    }\n",
       "\n",
       "    .dataframe thead th {\n",
       "        text-align: right;\n",
       "    }\n",
       "</style>\n",
       "<table border=\"1\" class=\"dataframe\">\n",
       "  <thead>\n",
       "    <tr style=\"text-align: right;\">\n",
       "      <th></th>\n",
       "      <th>name</th>\n",
       "      <th>serd</th>\n",
       "      <th>nonserd</th>\n",
       "      <th>pdnfrstaff</th>\n",
       "      <th>facnum</th>\n",
       "      <th>socsc_rsd</th>\n",
       "      <th>hum_rsd</th>\n",
       "      <th>stem_rsd</th>\n",
       "      <th>oth_rsd</th>\n",
       "    </tr>\n",
       "  </thead>\n",
       "  <tbody>\n",
       "    <tr>\n",
       "      <th>108</th>\n",
       "      <td>American University</td>\n",
       "      <td>37505.0</td>\n",
       "      <td>34334.0</td>\n",
       "      <td>2.0</td>\n",
       "      <td>506.0</td>\n",
       "      <td>24.0</td>\n",
       "      <td>10.0</td>\n",
       "      <td>6.0</td>\n",
       "      <td>21.0</td>\n",
       "    </tr>\n",
       "    <tr>\n",
       "      <th>149</th>\n",
       "      <td>Arizona State University Campus Immersion</td>\n",
       "      <td>517586.0</td>\n",
       "      <td>68234.0</td>\n",
       "      <td>468.0</td>\n",
       "      <td>2263.0</td>\n",
       "      <td>55.0</td>\n",
       "      <td>96.0</td>\n",
       "      <td>305.0</td>\n",
       "      <td>200.0</td>\n",
       "    </tr>\n",
       "    <tr>\n",
       "      <th>150</th>\n",
       "      <td>Arizona State University Digital Immersion</td>\n",
       "      <td>77341.0</td>\n",
       "      <td>10196.0</td>\n",
       "      <td>70.0</td>\n",
       "      <td>553.0</td>\n",
       "      <td>0.0</td>\n",
       "      <td>0.0</td>\n",
       "      <td>0.0</td>\n",
       "      <td>99.0</td>\n",
       "    </tr>\n",
       "    <tr>\n",
       "      <th>155</th>\n",
       "      <td>Arkansas State University</td>\n",
       "      <td>8637.0</td>\n",
       "      <td>3.0</td>\n",
       "      <td>2.0</td>\n",
       "      <td>397.0</td>\n",
       "      <td>0.0</td>\n",
       "      <td>5.0</td>\n",
       "      <td>4.0</td>\n",
       "      <td>16.0</td>\n",
       "    </tr>\n",
       "    <tr>\n",
       "      <th>190</th>\n",
       "      <td>Auburn University</td>\n",
       "      <td>221503.0</td>\n",
       "      <td>33778.0</td>\n",
       "      <td>120.0</td>\n",
       "      <td>1169.0</td>\n",
       "      <td>4.0</td>\n",
       "      <td>7.0</td>\n",
       "      <td>165.0</td>\n",
       "      <td>93.0</td>\n",
       "    </tr>\n",
       "  </tbody>\n",
       "</table>\n",
       "</div>"
      ],
      "text/plain": [
       "                                           name      serd  nonserd  \\\n",
       "108                         American University   37505.0  34334.0   \n",
       "149   Arizona State University Campus Immersion  517586.0  68234.0   \n",
       "150  Arizona State University Digital Immersion   77341.0  10196.0   \n",
       "155                   Arkansas State University    8637.0      3.0   \n",
       "190                           Auburn University  221503.0  33778.0   \n",
       "\n",
       "     pdnfrstaff  facnum  socsc_rsd  hum_rsd  stem_rsd  oth_rsd  \n",
       "108         2.0   506.0       24.0     10.0       6.0     21.0  \n",
       "149       468.0  2263.0       55.0     96.0     305.0    200.0  \n",
       "150        70.0   553.0        0.0      0.0       0.0     99.0  \n",
       "155         2.0   397.0        0.0      5.0       4.0     16.0  \n",
       "190       120.0  1169.0        4.0      7.0     165.0     93.0  "
      ]
     },
     "execution_count": 12,
     "metadata": {},
     "output_type": "execute_result"
    }
   ],
   "source": [
    "data2021.head()"
   ]
  },
  {
   "cell_type": "code",
   "execution_count": 13,
   "metadata": {},
   "outputs": [
    {
     "data": {
      "text/html": [
       "<div>\n",
       "<style scoped>\n",
       "    .dataframe tbody tr th:only-of-type {\n",
       "        vertical-align: middle;\n",
       "    }\n",
       "\n",
       "    .dataframe tbody tr th {\n",
       "        vertical-align: top;\n",
       "    }\n",
       "\n",
       "    .dataframe thead th {\n",
       "        text-align: right;\n",
       "    }\n",
       "</style>\n",
       "<table border=\"1\" class=\"dataframe\">\n",
       "  <thead>\n",
       "    <tr style=\"text-align: right;\">\n",
       "      <th></th>\n",
       "      <th>name</th>\n",
       "      <th>serd</th>\n",
       "      <th>nonserd</th>\n",
       "      <th>pdnfrstaff</th>\n",
       "      <th>facnum</th>\n",
       "      <th>socsc_rsd</th>\n",
       "      <th>hum_rsd</th>\n",
       "      <th>stem_rsd</th>\n",
       "      <th>oth_rsd</th>\n",
       "    </tr>\n",
       "  </thead>\n",
       "  <tbody>\n",
       "    <tr>\n",
       "      <th>3517</th>\n",
       "      <td>University of North Texas</td>\n",
       "      <td>57764.0</td>\n",
       "      <td>26475.0</td>\n",
       "      <td>66.0</td>\n",
       "      <td>788.0</td>\n",
       "      <td>29.0</td>\n",
       "      <td>75.0</td>\n",
       "      <td>78.0</td>\n",
       "      <td>130.0</td>\n",
       "    </tr>\n",
       "  </tbody>\n",
       "</table>\n",
       "</div>"
      ],
      "text/plain": [
       "                           name     serd  nonserd  pdnfrstaff  facnum  \\\n",
       "3517  University of North Texas  57764.0  26475.0        66.0   788.0   \n",
       "\n",
       "      socsc_rsd  hum_rsd  stem_rsd  oth_rsd  \n",
       "3517       29.0     75.0      78.0    130.0  "
      ]
     },
     "execution_count": 13,
     "metadata": {},
     "output_type": "execute_result"
    }
   ],
   "source": [
    "data2021[data2021['name']=='University of North Texas']"
   ]
  },
  {
   "cell_type": "code",
   "execution_count": 16,
   "metadata": {},
   "outputs": [],
   "source": [
    "per_cap_serd = data2021['serd']/data2021['facnum']\n",
    "per_cap_non_serd = data2021['nonserd']/data2021['facnum']\n",
    "per_cap_staff = data2021['pdnfrstaff']/data2021['facnum']\n",
    "\n",
    "\n",
    "per_cap_serd_rank     = per_cap_serd.rank()\n",
    "per_cap_non_serd_rank = per_cap_non_serd.rank()\n",
    "per_cap_staff_rank    = per_cap_staff.rank()\n",
    "\n",
    "serd_rank      = data2021['serd'].rank()\n",
    "non_serd_rank  = data2021['nonserd'].rank()\n",
    "staff_rank     = data2021['pdnfrstaff'].rank()\n",
    "hum_rsd_rank   = data2021['hum_rsd'].rank()\n",
    "sosc_rsd_rank  = data2021['socsc_rsd'].rank()\n",
    "stem_rsd_rank  = data2021['stem_rsd'].rank()\n",
    "other_rsd_rank = data2021['oth_rsd'].rank()\n",
    "\n",
    "\n"
   ]
  },
  {
   "cell_type": "markdown",
   "metadata": {},
   "source": [
    "S&ER&D, NONS&ER&D, PDNFRSTAFF, FACNUM (used for per capita index calculation),\n",
    "HUM_RSD, SOCSC_RSD, STEM_RSD, OTHER_RSD"
   ]
  },
  {
   "cell_type": "code",
   "execution_count": 17,
   "metadata": {},
   "outputs": [
    {
     "data": {
      "text/plain": [
       "0    7.0\n",
       "1    5.5\n",
       "2    5.5\n",
       "3    3.0\n",
       "4    3.0\n",
       "5    3.0\n",
       "6    1.0\n",
       "dtype: float64"
      ]
     },
     "execution_count": 17,
     "metadata": {},
     "output_type": "execute_result"
    }
   ],
   "source": [
    "pd.Series([10, 8, 8, 4, 4, 4, 2]).rank()"
   ]
  },
  {
   "cell_type": "code",
   "execution_count": 18,
   "metadata": {},
   "outputs": [],
   "source": [
    "RankDF_cap  = pd.DataFrame({\n",
    "        'per_cap_serd'     : per_cap_serd_rank, \n",
    "        'per_cap_non_serd' : per_cap_non_serd_rank,\n",
    "        'per_cap_staff'    : per_cap_staff_rank})\n",
    "RankDF_agg = pd.DataFrame({\n",
    "        'serd'             : serd_rank,\n",
    "        'non_serd'         : non_serd_rank,\n",
    "        'staff'            : staff_rank,\n",
    "        'hum_rsd'          : hum_rsd_rank,\n",
    "        'sosc_rsd'         : sosc_rsd_rank,\n",
    "        'stem_rsd'         : stem_rsd_rank,\n",
    "        'other_rsd'        : other_rsd_rank})\n",
    "\n"
   ]
  },
  {
   "cell_type": "code",
   "execution_count": 19,
   "metadata": {},
   "outputs": [],
   "source": [
    "from sklearn.decomposition import PCA\n",
    "from  sklearn.preprocessing import StandardScaler\n",
    "import numpy as np\n",
    "\n",
    "scaler = StandardScaler()"
   ]
  },
  {
   "cell_type": "code",
   "execution_count": 20,
   "metadata": {},
   "outputs": [
    {
     "name": "stdout",
     "output_type": "stream",
     "text": [
      "Per Capita PCA Loading\n"
     ]
    },
    {
     "data": {
      "text/html": [
       "<div>\n",
       "<style scoped>\n",
       "    .dataframe tbody tr th:only-of-type {\n",
       "        vertical-align: middle;\n",
       "    }\n",
       "\n",
       "    .dataframe tbody tr th {\n",
       "        vertical-align: top;\n",
       "    }\n",
       "\n",
       "    .dataframe thead th {\n",
       "        text-align: right;\n",
       "    }\n",
       "</style>\n",
       "<table border=\"1\" class=\"dataframe\">\n",
       "  <thead>\n",
       "    <tr style=\"text-align: right;\">\n",
       "      <th></th>\n",
       "      <th>PC1</th>\n",
       "    </tr>\n",
       "  </thead>\n",
       "  <tbody>\n",
       "    <tr>\n",
       "      <th>per_cap_serd</th>\n",
       "      <td>0.935248</td>\n",
       "    </tr>\n",
       "    <tr>\n",
       "      <th>per_cap_non_serd</th>\n",
       "      <td>0.620278</td>\n",
       "    </tr>\n",
       "    <tr>\n",
       "      <th>per_cap_staff</th>\n",
       "      <td>0.940596</td>\n",
       "    </tr>\n",
       "  </tbody>\n",
       "</table>\n",
       "</div>"
      ],
      "text/plain": [
       "                       PC1\n",
       "per_cap_serd      0.935248\n",
       "per_cap_non_serd  0.620278\n",
       "per_cap_staff     0.940596"
      ]
     },
     "execution_count": 20,
     "metadata": {},
     "output_type": "execute_result"
    }
   ],
   "source": [
    "\n",
    "print('Per Capita PCA Loading')\n",
    "X = scaler.fit_transform(RankDF_cap)\n",
    "pca = PCA( n_components=0.7, svd_solver='full')\n",
    "pca.fit(X)\n",
    "\n",
    "loadings = pca.components_.T * np.sqrt(pca.explained_variance_)\n",
    "loadings_matrix = pd.DataFrame(loadings, columns=['PC1'], index=RankDF_cap.columns)\n",
    "\n",
    "loadings_matrix\n"
   ]
  },
  {
   "cell_type": "code",
   "execution_count": 21,
   "metadata": {},
   "outputs": [
    {
     "name": "stdout",
     "output_type": "stream",
     "text": [
      "Aggregate PCA Loading\n"
     ]
    },
    {
     "data": {
      "text/html": [
       "<div>\n",
       "<style scoped>\n",
       "    .dataframe tbody tr th:only-of-type {\n",
       "        vertical-align: middle;\n",
       "    }\n",
       "\n",
       "    .dataframe tbody tr th {\n",
       "        vertical-align: top;\n",
       "    }\n",
       "\n",
       "    .dataframe thead th {\n",
       "        text-align: right;\n",
       "    }\n",
       "</style>\n",
       "<table border=\"1\" class=\"dataframe\">\n",
       "  <thead>\n",
       "    <tr style=\"text-align: right;\">\n",
       "      <th></th>\n",
       "      <th>PC1</th>\n",
       "    </tr>\n",
       "  </thead>\n",
       "  <tbody>\n",
       "    <tr>\n",
       "      <th>serd</th>\n",
       "      <td>0.904910</td>\n",
       "    </tr>\n",
       "    <tr>\n",
       "      <th>non_serd</th>\n",
       "      <td>0.806563</td>\n",
       "    </tr>\n",
       "    <tr>\n",
       "      <th>staff</th>\n",
       "      <td>0.907112</td>\n",
       "    </tr>\n",
       "    <tr>\n",
       "      <th>hum_rsd</th>\n",
       "      <td>0.840432</td>\n",
       "    </tr>\n",
       "    <tr>\n",
       "      <th>sosc_rsd</th>\n",
       "      <td>0.879330</td>\n",
       "    </tr>\n",
       "    <tr>\n",
       "      <th>stem_rsd</th>\n",
       "      <td>0.918868</td>\n",
       "    </tr>\n",
       "    <tr>\n",
       "      <th>other_rsd</th>\n",
       "      <td>0.598058</td>\n",
       "    </tr>\n",
       "  </tbody>\n",
       "</table>\n",
       "</div>"
      ],
      "text/plain": [
       "                PC1\n",
       "serd       0.904910\n",
       "non_serd   0.806563\n",
       "staff      0.907112\n",
       "hum_rsd    0.840432\n",
       "sosc_rsd   0.879330\n",
       "stem_rsd   0.918868\n",
       "other_rsd  0.598058"
      ]
     },
     "execution_count": 21,
     "metadata": {},
     "output_type": "execute_result"
    }
   ],
   "source": [
    "print('Aggregate PCA Loading')\n",
    "\n",
    "X = scaler.fit_transform(RankDF_agg)\n",
    "pca = PCA(n_components=0.7, svd_solver = 'full')\n",
    "pca.fit(X)\n",
    "loadings = pca.components_.T * np.sqrt(pca.explained_variance_)\n",
    "loadings_matrix = pd.DataFrame(loadings, columns=['PC1'], index=RankDF_agg.columns)\n",
    "\n",
    "loadings_matrix"
   ]
  },
  {
   "cell_type": "code",
   "execution_count": null,
   "metadata": {},
   "outputs": [],
   "source": [
    "data2021.drop(data2021[name]=='')"
   ]
  }
 ],
 "metadata": {
  "interpreter": {
   "hash": "a41e7d8d77b8b6dd1021a519514f228cea0ec03fcc9feb40fd395bd9239d39d9"
  },
  "kernelspec": {
   "display_name": "Python 3.9.5 64-bit (conda)",
   "language": "python",
   "name": "python3"
  },
  "language_info": {
   "codemirror_mode": {
    "name": "ipython",
    "version": 3
   },
   "file_extension": ".py",
   "mimetype": "text/x-python",
   "name": "python",
   "nbconvert_exporter": "python",
   "pygments_lexer": "ipython3",
   "version": "3.8.12"
  },
  "orig_nbformat": 4
 },
 "nbformat": 4,
 "nbformat_minor": 2
}
